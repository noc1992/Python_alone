{
 "cells": [
  {
   "cell_type": "code",
   "execution_count": 1,
   "metadata": {},
   "outputs": [],
   "source": [
    "import pandas as pd\n",
    "import seaborn as sns\n",
    "import scipy as sp\n",
    "import numpy as np\n",
    "import matplotlib as plt\n",
    "from collections import Counter\n",
    "from tqdm import tqdm_notebook\n",
    "import tensorflow as tf\n",
    "from multiprocessing import Pool"
   ]
  },
  {
   "cell_type": "code",
   "execution_count": 6,
   "metadata": {},
   "outputs": [],
   "source": [
    "train = pd.read_csv('data/train.csv')"
   ]
  },
  {
   "cell_type": "code",
   "execution_count": 7,
   "metadata": {},
   "outputs": [],
   "source": [
    "data = train.copy()"
   ]
  },
  {
   "cell_type": "code",
   "execution_count": 302,
   "metadata": {
    "scrolled": true
   },
   "outputs": [
    {
     "name": "stdout",
     "output_type": "stream",
     "text": [
      "<class 'pandas.core.frame.DataFrame'>\n",
      "RangeIndex: 16909 entries, 0 to 16908\n",
      "Columns: 1286 entries, Time to X1163\n",
      "dtypes: float64(1285), object(1)\n",
      "memory usage: 165.9+ MB\n"
     ]
    }
   ],
   "source": [
    "data.info()"
   ]
  },
  {
   "cell_type": "code",
   "execution_count": 9,
   "metadata": {},
   "outputs": [
    {
     "data": {
      "text/html": [
       "<div>\n",
       "<style scoped>\n",
       "    .dataframe tbody tr th:only-of-type {\n",
       "        vertical-align: middle;\n",
       "    }\n",
       "\n",
       "    .dataframe tbody tr th {\n",
       "        vertical-align: top;\n",
       "    }\n",
       "\n",
       "    .dataframe thead th {\n",
       "        text-align: right;\n",
       "    }\n",
       "</style>\n",
       "<table border=\"1\" class=\"dataframe\">\n",
       "  <thead>\n",
       "    <tr style=\"text-align: right;\">\n",
       "      <th></th>\n",
       "      <th>X692</th>\n",
       "      <th>X1272</th>\n",
       "      <th>X553</th>\n",
       "      <th>X1299</th>\n",
       "      <th>X4</th>\n",
       "      <th>X598</th>\n",
       "      <th>X1003</th>\n",
       "      <th>X1010</th>\n",
       "      <th>X1216</th>\n",
       "      <th>X1047</th>\n",
       "      <th>...</th>\n",
       "      <th>X1164</th>\n",
       "      <th>X656</th>\n",
       "      <th>X1287</th>\n",
       "      <th>X324</th>\n",
       "      <th>X767</th>\n",
       "      <th>X1271</th>\n",
       "      <th>X1288</th>\n",
       "      <th>X58</th>\n",
       "      <th>X1033</th>\n",
       "      <th>X1163</th>\n",
       "    </tr>\n",
       "  </thead>\n",
       "  <tbody>\n",
       "    <tr>\n",
       "      <th>count</th>\n",
       "      <td>3064.000000</td>\n",
       "      <td>3065.000000</td>\n",
       "      <td>3041.000000</td>\n",
       "      <td>3006.000000</td>\n",
       "      <td>0.0</td>\n",
       "      <td>3041.000000</td>\n",
       "      <td>2937.000000</td>\n",
       "      <td>3048.000000</td>\n",
       "      <td>3064.000000</td>\n",
       "      <td>3062.000000</td>\n",
       "      <td>...</td>\n",
       "      <td>3040.000000</td>\n",
       "      <td>3066.000000</td>\n",
       "      <td>3035.000000</td>\n",
       "      <td>6766.000000</td>\n",
       "      <td>3040.000000</td>\n",
       "      <td>3065.000000</td>\n",
       "      <td>3034.000000</td>\n",
       "      <td>1747.000000</td>\n",
       "      <td>3044.000000</td>\n",
       "      <td>3041.000000</td>\n",
       "    </tr>\n",
       "    <tr>\n",
       "      <th>mean</th>\n",
       "      <td>0.371506</td>\n",
       "      <td>0.410571</td>\n",
       "      <td>0.519877</td>\n",
       "      <td>0.260363</td>\n",
       "      <td>NaN</td>\n",
       "      <td>0.268325</td>\n",
       "      <td>0.378017</td>\n",
       "      <td>0.424614</td>\n",
       "      <td>0.302138</td>\n",
       "      <td>0.273101</td>\n",
       "      <td>...</td>\n",
       "      <td>0.410577</td>\n",
       "      <td>0.441267</td>\n",
       "      <td>0.271726</td>\n",
       "      <td>0.141011</td>\n",
       "      <td>0.384662</td>\n",
       "      <td>0.552852</td>\n",
       "      <td>0.487484</td>\n",
       "      <td>2.881876</td>\n",
       "      <td>0.356959</td>\n",
       "      <td>0.339762</td>\n",
       "    </tr>\n",
       "    <tr>\n",
       "      <th>std</th>\n",
       "      <td>0.190358</td>\n",
       "      <td>0.272845</td>\n",
       "      <td>0.236184</td>\n",
       "      <td>0.231955</td>\n",
       "      <td>NaN</td>\n",
       "      <td>0.149223</td>\n",
       "      <td>0.267603</td>\n",
       "      <td>0.267227</td>\n",
       "      <td>0.157183</td>\n",
       "      <td>0.184067</td>\n",
       "      <td>...</td>\n",
       "      <td>0.270049</td>\n",
       "      <td>0.295568</td>\n",
       "      <td>0.146547</td>\n",
       "      <td>0.116648</td>\n",
       "      <td>0.254653</td>\n",
       "      <td>0.386933</td>\n",
       "      <td>0.277884</td>\n",
       "      <td>1.915190</td>\n",
       "      <td>0.189310</td>\n",
       "      <td>0.198999</td>\n",
       "    </tr>\n",
       "    <tr>\n",
       "      <th>min</th>\n",
       "      <td>0.049000</td>\n",
       "      <td>0.066000</td>\n",
       "      <td>0.053000</td>\n",
       "      <td>0.017000</td>\n",
       "      <td>NaN</td>\n",
       "      <td>0.034000</td>\n",
       "      <td>0.052000</td>\n",
       "      <td>0.052000</td>\n",
       "      <td>0.071000</td>\n",
       "      <td>0.037000</td>\n",
       "      <td>...</td>\n",
       "      <td>0.058000</td>\n",
       "      <td>0.074000</td>\n",
       "      <td>0.022000</td>\n",
       "      <td>0.007000</td>\n",
       "      <td>0.048000</td>\n",
       "      <td>0.045000</td>\n",
       "      <td>0.041000</td>\n",
       "      <td>0.216000</td>\n",
       "      <td>0.038000</td>\n",
       "      <td>0.057000</td>\n",
       "    </tr>\n",
       "    <tr>\n",
       "      <th>25%</th>\n",
       "      <td>0.271000</td>\n",
       "      <td>0.225000</td>\n",
       "      <td>0.416000</td>\n",
       "      <td>0.114000</td>\n",
       "      <td>NaN</td>\n",
       "      <td>0.162000</td>\n",
       "      <td>0.207000</td>\n",
       "      <td>0.285000</td>\n",
       "      <td>0.212000</td>\n",
       "      <td>0.163000</td>\n",
       "      <td>...</td>\n",
       "      <td>0.266000</td>\n",
       "      <td>0.242000</td>\n",
       "      <td>0.198000</td>\n",
       "      <td>0.055000</td>\n",
       "      <td>0.214000</td>\n",
       "      <td>0.251000</td>\n",
       "      <td>0.280000</td>\n",
       "      <td>1.360500</td>\n",
       "      <td>0.242000</td>\n",
       "      <td>0.218000</td>\n",
       "    </tr>\n",
       "    <tr>\n",
       "      <th>50%</th>\n",
       "      <td>0.329000</td>\n",
       "      <td>0.338000</td>\n",
       "      <td>0.485000</td>\n",
       "      <td>0.176500</td>\n",
       "      <td>NaN</td>\n",
       "      <td>0.228000</td>\n",
       "      <td>0.274000</td>\n",
       "      <td>0.347500</td>\n",
       "      <td>0.281000</td>\n",
       "      <td>0.216000</td>\n",
       "      <td>...</td>\n",
       "      <td>0.332000</td>\n",
       "      <td>0.384000</td>\n",
       "      <td>0.233000</td>\n",
       "      <td>0.122000</td>\n",
       "      <td>0.317500</td>\n",
       "      <td>0.477000</td>\n",
       "      <td>0.432000</td>\n",
       "      <td>2.469000</td>\n",
       "      <td>0.326000</td>\n",
       "      <td>0.290000</td>\n",
       "    </tr>\n",
       "    <tr>\n",
       "      <th>75%</th>\n",
       "      <td>0.430000</td>\n",
       "      <td>0.536000</td>\n",
       "      <td>0.581000</td>\n",
       "      <td>0.339000</td>\n",
       "      <td>NaN</td>\n",
       "      <td>0.346000</td>\n",
       "      <td>0.483000</td>\n",
       "      <td>0.466000</td>\n",
       "      <td>0.344000</td>\n",
       "      <td>0.313750</td>\n",
       "      <td>...</td>\n",
       "      <td>0.475000</td>\n",
       "      <td>0.545000</td>\n",
       "      <td>0.309500</td>\n",
       "      <td>0.173000</td>\n",
       "      <td>0.500000</td>\n",
       "      <td>0.758000</td>\n",
       "      <td>0.663750</td>\n",
       "      <td>4.209500</td>\n",
       "      <td>0.432250</td>\n",
       "      <td>0.449000</td>\n",
       "    </tr>\n",
       "    <tr>\n",
       "      <th>max</th>\n",
       "      <td>4.104000</td>\n",
       "      <td>4.837000</td>\n",
       "      <td>6.232000</td>\n",
       "      <td>5.624000</td>\n",
       "      <td>NaN</td>\n",
       "      <td>2.718000</td>\n",
       "      <td>5.418000</td>\n",
       "      <td>4.426000</td>\n",
       "      <td>2.899000</td>\n",
       "      <td>2.684000</td>\n",
       "      <td>...</td>\n",
       "      <td>5.929000</td>\n",
       "      <td>4.562000</td>\n",
       "      <td>3.209000</td>\n",
       "      <td>1.768000</td>\n",
       "      <td>4.443000</td>\n",
       "      <td>7.773000</td>\n",
       "      <td>4.414000</td>\n",
       "      <td>9.088000</td>\n",
       "      <td>3.921000</td>\n",
       "      <td>5.049000</td>\n",
       "    </tr>\n",
       "  </tbody>\n",
       "</table>\n",
       "<p>8 rows × 1300 columns</p>\n",
       "</div>"
      ],
      "text/plain": [
       "              X692        X1272         X553        X1299   X4         X598  \\\n",
       "count  3064.000000  3065.000000  3041.000000  3006.000000  0.0  3041.000000   \n",
       "mean      0.371506     0.410571     0.519877     0.260363  NaN     0.268325   \n",
       "std       0.190358     0.272845     0.236184     0.231955  NaN     0.149223   \n",
       "min       0.049000     0.066000     0.053000     0.017000  NaN     0.034000   \n",
       "25%       0.271000     0.225000     0.416000     0.114000  NaN     0.162000   \n",
       "50%       0.329000     0.338000     0.485000     0.176500  NaN     0.228000   \n",
       "75%       0.430000     0.536000     0.581000     0.339000  NaN     0.346000   \n",
       "max       4.104000     4.837000     6.232000     5.624000  NaN     2.718000   \n",
       "\n",
       "             X1003        X1010        X1216        X1047  ...        X1164  \\\n",
       "count  2937.000000  3048.000000  3064.000000  3062.000000  ...  3040.000000   \n",
       "mean      0.378017     0.424614     0.302138     0.273101  ...     0.410577   \n",
       "std       0.267603     0.267227     0.157183     0.184067  ...     0.270049   \n",
       "min       0.052000     0.052000     0.071000     0.037000  ...     0.058000   \n",
       "25%       0.207000     0.285000     0.212000     0.163000  ...     0.266000   \n",
       "50%       0.274000     0.347500     0.281000     0.216000  ...     0.332000   \n",
       "75%       0.483000     0.466000     0.344000     0.313750  ...     0.475000   \n",
       "max       5.418000     4.426000     2.899000     2.684000  ...     5.929000   \n",
       "\n",
       "              X656        X1287         X324         X767        X1271  \\\n",
       "count  3066.000000  3035.000000  6766.000000  3040.000000  3065.000000   \n",
       "mean      0.441267     0.271726     0.141011     0.384662     0.552852   \n",
       "std       0.295568     0.146547     0.116648     0.254653     0.386933   \n",
       "min       0.074000     0.022000     0.007000     0.048000     0.045000   \n",
       "25%       0.242000     0.198000     0.055000     0.214000     0.251000   \n",
       "50%       0.384000     0.233000     0.122000     0.317500     0.477000   \n",
       "75%       0.545000     0.309500     0.173000     0.500000     0.758000   \n",
       "max       4.562000     3.209000     1.768000     4.443000     7.773000   \n",
       "\n",
       "             X1288          X58        X1033        X1163  \n",
       "count  3034.000000  1747.000000  3044.000000  3041.000000  \n",
       "mean      0.487484     2.881876     0.356959     0.339762  \n",
       "std       0.277884     1.915190     0.189310     0.198999  \n",
       "min       0.041000     0.216000     0.038000     0.057000  \n",
       "25%       0.280000     1.360500     0.242000     0.218000  \n",
       "50%       0.432000     2.469000     0.326000     0.290000  \n",
       "75%       0.663750     4.209500     0.432250     0.449000  \n",
       "max       4.414000     9.088000     3.921000     5.049000  \n",
       "\n",
       "[8 rows x 1300 columns]"
      ]
     },
     "execution_count": 9,
     "metadata": {},
     "output_type": "execute_result"
    }
   ],
   "source": [
    "stats"
   ]
  },
  {
   "cell_type": "code",
   "execution_count": 8,
   "metadata": {
    "scrolled": true
   },
   "outputs": [
    {
     "name": "stdout",
     "output_type": "stream",
     "text": [
      "<class 'pandas.core.frame.DataFrame'>\n",
      "RangeIndex: 16909 entries, 0 to 16908\n",
      "Columns: 1286 entries, Time to X1163\n",
      "dtypes: float64(1285), object(1)\n",
      "memory usage: 165.9+ MB\n"
     ]
    }
   ],
   "source": [
    "no_data = ['X3','X4','X1','X22','X34','X24','X45','X58','X64','X622','X756','X834','X915','X1024','X1241']\n",
    "sub = data.drop(no_data, axis=1)\n",
    "sub.info()"
   ]
  },
  {
   "cell_type": "code",
   "execution_count": 304,
   "metadata": {},
   "outputs": [
    {
     "data": {
      "text/plain": [
       "[]"
      ]
     },
     "execution_count": 304,
     "metadata": {},
     "output_type": "execute_result"
    }
   ],
   "source": [
    "stats = sub.describe()\n",
    "[i for i in range(1285) if stats.iloc[0][i] == 0]"
   ]
  },
  {
   "cell_type": "code",
   "execution_count": 31,
   "metadata": {},
   "outputs": [],
   "source": [
    "sub_t = sub.iloc[:, 1:]"
   ]
  },
  {
   "cell_type": "code",
   "execution_count": 48,
   "metadata": {
    "scrolled": true
   },
   "outputs": [],
   "source": [
    "stats = sub_t.describe()\n",
    "X = []\n",
    "x = [i for i in range(1286) if stats.iloc[0][i] >= 8000]\n",
    "X.append(['X{}'.format(x) for x in x])"
   ]
  },
  {
   "cell_type": "code",
   "execution_count": 24,
   "metadata": {},
   "outputs": [],
   "source": [
    "mode0 = pd.read_csv('data/freq.csv', names= ['values'])"
   ]
  },
  {
   "cell_type": "code",
   "execution_count": 25,
   "metadata": {
    "scrolled": true
   },
   "outputs": [
    {
     "data": {
      "text/html": [
       "<div>\n",
       "<style scoped>\n",
       "    .dataframe tbody tr th:only-of-type {\n",
       "        vertical-align: middle;\n",
       "    }\n",
       "\n",
       "    .dataframe tbody tr th {\n",
       "        vertical-align: top;\n",
       "    }\n",
       "\n",
       "    .dataframe thead th {\n",
       "        text-align: right;\n",
       "    }\n",
       "</style>\n",
       "<table border=\"1\" class=\"dataframe\">\n",
       "  <thead>\n",
       "    <tr style=\"text-align: right;\">\n",
       "      <th></th>\n",
       "      <th>values</th>\n",
       "    </tr>\n",
       "  </thead>\n",
       "  <tbody>\n",
       "    <tr>\n",
       "      <td>0</td>\n",
       "      <td>X692</td>\n",
       "    </tr>\n",
       "    <tr>\n",
       "      <td>1</td>\n",
       "      <td>0.275</td>\n",
       "    </tr>\n",
       "    <tr>\n",
       "      <td>2</td>\n",
       "      <td>X1272</td>\n",
       "    </tr>\n",
       "    <tr>\n",
       "      <td>3</td>\n",
       "      <td>0.212</td>\n",
       "    </tr>\n",
       "    <tr>\n",
       "      <td>4</td>\n",
       "      <td>X553</td>\n",
       "    </tr>\n",
       "    <tr>\n",
       "      <td>...</td>\n",
       "      <td>...</td>\n",
       "    </tr>\n",
       "    <tr>\n",
       "      <td>2585</td>\n",
       "      <td>2.309</td>\n",
       "    </tr>\n",
       "    <tr>\n",
       "      <td>2586</td>\n",
       "      <td>X1033</td>\n",
       "    </tr>\n",
       "    <tr>\n",
       "      <td>2587</td>\n",
       "      <td>0.223</td>\n",
       "    </tr>\n",
       "    <tr>\n",
       "      <td>2588</td>\n",
       "      <td>X1163</td>\n",
       "    </tr>\n",
       "    <tr>\n",
       "      <td>2589</td>\n",
       "      <td>0.224</td>\n",
       "    </tr>\n",
       "  </tbody>\n",
       "</table>\n",
       "<p>2590 rows × 1 columns</p>\n",
       "</div>"
      ],
      "text/plain": [
       "     values\n",
       "0      X692\n",
       "1     0.275\n",
       "2     X1272\n",
       "3     0.212\n",
       "4      X553\n",
       "...     ...\n",
       "2585  2.309\n",
       "2586  X1033\n",
       "2587  0.223\n",
       "2588  X1163\n",
       "2589  0.224\n",
       "\n",
       "[2590 rows x 1 columns]"
      ]
     },
     "execution_count": 25,
     "metadata": {},
     "output_type": "execute_result"
    }
   ],
   "source": [
    "mode0"
   ]
  },
  {
   "cell_type": "code",
   "execution_count": 26,
   "metadata": {
    "scrolled": true
   },
   "outputs": [],
   "source": [
    "col = []\n",
    "val = []\n",
    "for i in range(len(mode0)):\n",
    "    if i % 2 == 0:\n",
    "        col.append(mode0.iloc[i])\n",
    "    else:\n",
    "        val.append(mode0.iloc[i])"
   ]
  },
  {
   "cell_type": "code",
   "execution_count": 27,
   "metadata": {},
   "outputs": [],
   "source": [
    "col1 = pd.DataFrame(col)\n",
    "val1 = pd.DataFrame(val)"
   ]
  },
  {
   "cell_type": "code",
   "execution_count": 28,
   "metadata": {
    "scrolled": true
   },
   "outputs": [],
   "source": [
    "col_d = col1.reset_index(drop=True)\n",
    "val_d = val1.reset_index(drop=True)"
   ]
  },
  {
   "cell_type": "code",
   "execution_count": 29,
   "metadata": {
    "scrolled": true
   },
   "outputs": [],
   "source": [
    "col_t = col_d.T\n",
    "val_t = val_d.T"
   ]
  },
  {
   "cell_type": "code",
   "execution_count": 44,
   "metadata": {},
   "outputs": [
    {
     "data": {
      "text/plain": [
       "values    0.275\n",
       "Name: 0, dtype: object"
      ]
     },
     "execution_count": 44,
     "metadata": {},
     "output_type": "execute_result"
    }
   ],
   "source": [
    "val_t[0]"
   ]
  },
  {
   "cell_type": "code",
   "execution_count": 21,
   "metadata": {
    "scrolled": true
   },
   "outputs": [],
   "source": [
    "mode2.to_csv('mode1.csv', header=False, index=False)"
   ]
  },
  {
   "cell_type": "code",
   "execution_count": 30,
   "metadata": {
    "scrolled": true
   },
   "outputs": [],
   "source": [
    "mode2 = pd.concat([col_t , val_t]) "
   ]
  },
  {
   "cell_type": "code",
   "execution_count": 32,
   "metadata": {},
   "outputs": [
    {
     "data": {
      "text/html": [
       "<div>\n",
       "<style scoped>\n",
       "    .dataframe tbody tr th:only-of-type {\n",
       "        vertical-align: middle;\n",
       "    }\n",
       "\n",
       "    .dataframe tbody tr th {\n",
       "        vertical-align: top;\n",
       "    }\n",
       "\n",
       "    .dataframe thead th {\n",
       "        text-align: right;\n",
       "    }\n",
       "</style>\n",
       "<table border=\"1\" class=\"dataframe\">\n",
       "  <thead>\n",
       "    <tr style=\"text-align: right;\">\n",
       "      <th></th>\n",
       "      <th>0</th>\n",
       "    </tr>\n",
       "  </thead>\n",
       "  <tbody>\n",
       "    <tr>\n",
       "      <td>values</td>\n",
       "      <td>0.275</td>\n",
       "    </tr>\n",
       "  </tbody>\n",
       "</table>\n",
       "</div>"
      ],
      "text/plain": [
       "            0\n",
       "values  0.275"
      ]
     },
     "execution_count": 32,
     "metadata": {},
     "output_type": "execute_result"
    }
   ],
   "source": [
    "mode2.iloc[1:2,0:1]"
   ]
  },
  {
   "cell_type": "code",
   "execution_count": 22,
   "metadata": {},
   "outputs": [],
   "source": [
    "mode2 = mode2.reset_index(drop=True)"
   ]
  },
  {
   "cell_type": "code",
   "execution_count": 11,
   "metadata": {},
   "outputs": [],
   "source": [
    "mode3 = pd.read_csv('mode1.csv')"
   ]
  },
  {
   "cell_type": "code",
   "execution_count": 12,
   "metadata": {},
   "outputs": [
    {
     "data": {
      "text/html": [
       "<div>\n",
       "<style scoped>\n",
       "    .dataframe tbody tr th:only-of-type {\n",
       "        vertical-align: middle;\n",
       "    }\n",
       "\n",
       "    .dataframe tbody tr th {\n",
       "        vertical-align: top;\n",
       "    }\n",
       "\n",
       "    .dataframe thead th {\n",
       "        text-align: right;\n",
       "    }\n",
       "</style>\n",
       "<table border=\"1\" class=\"dataframe\">\n",
       "  <thead>\n",
       "    <tr style=\"text-align: right;\">\n",
       "      <th></th>\n",
       "      <th>X692</th>\n",
       "      <th>X1272</th>\n",
       "      <th>X553</th>\n",
       "      <th>X1299</th>\n",
       "      <th>X598</th>\n",
       "      <th>X1003</th>\n",
       "      <th>X1010</th>\n",
       "      <th>X1216</th>\n",
       "      <th>X1047</th>\n",
       "      <th>X381</th>\n",
       "      <th>...</th>\n",
       "      <th>X1164</th>\n",
       "      <th>X656</th>\n",
       "      <th>X1287</th>\n",
       "      <th>X324</th>\n",
       "      <th>X767</th>\n",
       "      <th>X1271</th>\n",
       "      <th>X1288</th>\n",
       "      <th>X58</th>\n",
       "      <th>X1033</th>\n",
       "      <th>X1163</th>\n",
       "    </tr>\n",
       "  </thead>\n",
       "  <tbody>\n",
       "    <tr>\n",
       "      <td>0</td>\n",
       "      <td>0.275</td>\n",
       "      <td>0.212</td>\n",
       "      <td>0.425</td>\n",
       "      <td>0.108</td>\n",
       "      <td>0.153</td>\n",
       "      <td>0.18</td>\n",
       "      <td>0.296</td>\n",
       "      <td>0.292</td>\n",
       "      <td>0.144</td>\n",
       "      <td>0.148</td>\n",
       "      <td>...</td>\n",
       "      <td>0.291</td>\n",
       "      <td>0.164</td>\n",
       "      <td>0.209</td>\n",
       "      <td>0.048</td>\n",
       "      <td>0.205</td>\n",
       "      <td>0.198</td>\n",
       "      <td>0.24</td>\n",
       "      <td>2.309</td>\n",
       "      <td>0.223</td>\n",
       "      <td>0.224</td>\n",
       "    </tr>\n",
       "  </tbody>\n",
       "</table>\n",
       "<p>1 rows × 1295 columns</p>\n",
       "</div>"
      ],
      "text/plain": [
       "    X692  X1272   X553  X1299   X598  X1003  X1010  X1216  X1047   X381  ...  \\\n",
       "0  0.275  0.212  0.425  0.108  0.153   0.18  0.296  0.292  0.144  0.148  ...   \n",
       "\n",
       "   X1164   X656  X1287   X324   X767  X1271  X1288    X58  X1033  X1163  \n",
       "0  0.291  0.164  0.209  0.048  0.205  0.198   0.24  2.309  0.223  0.224  \n",
       "\n",
       "[1 rows x 1295 columns]"
      ]
     },
     "execution_count": 12,
     "metadata": {},
     "output_type": "execute_result"
    }
   ],
   "source": [
    "mode3"
   ]
  },
  {
   "cell_type": "code",
   "execution_count": 276,
   "metadata": {},
   "outputs": [
    {
     "data": {
      "text/plain": [
       "0.275"
      ]
     },
     "execution_count": 276,
     "metadata": {},
     "output_type": "execute_result"
    }
   ],
   "source": [
    "mode3.iloc[0, 0]"
   ]
  },
  {
   "cell_type": "code",
   "execution_count": 51,
   "metadata": {},
   "outputs": [],
   "source": [
    "sub1 = sub.iloc[13647:16910]"
   ]
  },
  {
   "cell_type": "code",
   "execution_count": 330,
   "metadata": {
    "scrolled": false
   },
   "outputs": [
    {
     "data": {
      "text/plain": [
       "3262"
      ]
     },
     "execution_count": 330,
     "metadata": {},
     "output_type": "execute_result"
    }
   ],
   "source": [
    "len(sub1)"
   ]
  },
  {
   "cell_type": "code",
   "execution_count": 52,
   "metadata": {},
   "outputs": [
    {
     "data": {
      "text/html": [
       "<div>\n",
       "<style scoped>\n",
       "    .dataframe tbody tr th:only-of-type {\n",
       "        vertical-align: middle;\n",
       "    }\n",
       "\n",
       "    .dataframe tbody tr th {\n",
       "        vertical-align: top;\n",
       "    }\n",
       "\n",
       "    .dataframe thead th {\n",
       "        text-align: right;\n",
       "    }\n",
       "</style>\n",
       "<table border=\"1\" class=\"dataframe\">\n",
       "  <thead>\n",
       "    <tr style=\"text-align: right;\">\n",
       "      <th></th>\n",
       "      <th>Time</th>\n",
       "      <th>X692</th>\n",
       "      <th>X1272</th>\n",
       "      <th>X553</th>\n",
       "      <th>X1299</th>\n",
       "      <th>X598</th>\n",
       "      <th>X1003</th>\n",
       "      <th>X1010</th>\n",
       "      <th>X1216</th>\n",
       "      <th>X1047</th>\n",
       "      <th>...</th>\n",
       "      <th>X1017</th>\n",
       "      <th>X1164</th>\n",
       "      <th>X656</th>\n",
       "      <th>X1287</th>\n",
       "      <th>X324</th>\n",
       "      <th>X767</th>\n",
       "      <th>X1271</th>\n",
       "      <th>X1288</th>\n",
       "      <th>X1033</th>\n",
       "      <th>X1163</th>\n",
       "    </tr>\n",
       "  </thead>\n",
       "  <tbody>\n",
       "    <tr>\n",
       "      <td>13647</td>\n",
       "      <td>2018-02-15 02:00</td>\n",
       "      <td>0.314</td>\n",
       "      <td>0.440</td>\n",
       "      <td>0.461</td>\n",
       "      <td>0.308</td>\n",
       "      <td>0.174</td>\n",
       "      <td>0.341</td>\n",
       "      <td>0.400</td>\n",
       "      <td>0.279</td>\n",
       "      <td>0.192</td>\n",
       "      <td>...</td>\n",
       "      <td>0.530</td>\n",
       "      <td>0.656</td>\n",
       "      <td>0.219</td>\n",
       "      <td>0.222</td>\n",
       "      <td>0.094</td>\n",
       "      <td>0.355</td>\n",
       "      <td>0.149</td>\n",
       "      <td>0.390</td>\n",
       "      <td>0.347</td>\n",
       "      <td>0.135</td>\n",
       "    </tr>\n",
       "    <tr>\n",
       "      <td>13648</td>\n",
       "      <td>2018-02-15 03:00</td>\n",
       "      <td>0.309</td>\n",
       "      <td>0.292</td>\n",
       "      <td>0.524</td>\n",
       "      <td>0.279</td>\n",
       "      <td>0.198</td>\n",
       "      <td>0.343</td>\n",
       "      <td>0.393</td>\n",
       "      <td>0.272</td>\n",
       "      <td>0.142</td>\n",
       "      <td>...</td>\n",
       "      <td>0.526</td>\n",
       "      <td>0.659</td>\n",
       "      <td>0.224</td>\n",
       "      <td>0.282</td>\n",
       "      <td>0.071</td>\n",
       "      <td>0.164</td>\n",
       "      <td>0.142</td>\n",
       "      <td>0.404</td>\n",
       "      <td>0.293</td>\n",
       "      <td>0.137</td>\n",
       "    </tr>\n",
       "    <tr>\n",
       "      <td>13649</td>\n",
       "      <td>2018-02-15 04:00</td>\n",
       "      <td>0.327</td>\n",
       "      <td>0.298</td>\n",
       "      <td>0.486</td>\n",
       "      <td>0.364</td>\n",
       "      <td>0.155</td>\n",
       "      <td>0.388</td>\n",
       "      <td>0.388</td>\n",
       "      <td>0.273</td>\n",
       "      <td>0.142</td>\n",
       "      <td>...</td>\n",
       "      <td>0.687</td>\n",
       "      <td>0.598</td>\n",
       "      <td>0.201</td>\n",
       "      <td>0.257</td>\n",
       "      <td>0.062</td>\n",
       "      <td>0.136</td>\n",
       "      <td>0.174</td>\n",
       "      <td>0.216</td>\n",
       "      <td>0.346</td>\n",
       "      <td>0.169</td>\n",
       "    </tr>\n",
       "    <tr>\n",
       "      <td>13650</td>\n",
       "      <td>2018-02-15 05:00</td>\n",
       "      <td>0.303</td>\n",
       "      <td>0.254</td>\n",
       "      <td>0.514</td>\n",
       "      <td>0.953</td>\n",
       "      <td>0.198</td>\n",
       "      <td>0.338</td>\n",
       "      <td>0.402</td>\n",
       "      <td>0.263</td>\n",
       "      <td>0.139</td>\n",
       "      <td>...</td>\n",
       "      <td>0.864</td>\n",
       "      <td>0.593</td>\n",
       "      <td>0.191</td>\n",
       "      <td>0.258</td>\n",
       "      <td>0.132</td>\n",
       "      <td>0.128</td>\n",
       "      <td>0.168</td>\n",
       "      <td>0.258</td>\n",
       "      <td>0.325</td>\n",
       "      <td>0.325</td>\n",
       "    </tr>\n",
       "    <tr>\n",
       "      <td>13651</td>\n",
       "      <td>2018-02-15 06:00</td>\n",
       "      <td>0.273</td>\n",
       "      <td>0.290</td>\n",
       "      <td>0.486</td>\n",
       "      <td>0.547</td>\n",
       "      <td>0.153</td>\n",
       "      <td>0.492</td>\n",
       "      <td>0.352</td>\n",
       "      <td>0.496</td>\n",
       "      <td>0.147</td>\n",
       "      <td>...</td>\n",
       "      <td>0.661</td>\n",
       "      <td>0.714</td>\n",
       "      <td>0.184</td>\n",
       "      <td>0.215</td>\n",
       "      <td>0.407</td>\n",
       "      <td>0.198</td>\n",
       "      <td>0.168</td>\n",
       "      <td>0.197</td>\n",
       "      <td>0.306</td>\n",
       "      <td>0.188</td>\n",
       "    </tr>\n",
       "    <tr>\n",
       "      <td>...</td>\n",
       "      <td>...</td>\n",
       "      <td>...</td>\n",
       "      <td>...</td>\n",
       "      <td>...</td>\n",
       "      <td>...</td>\n",
       "      <td>...</td>\n",
       "      <td>...</td>\n",
       "      <td>...</td>\n",
       "      <td>...</td>\n",
       "      <td>...</td>\n",
       "      <td>...</td>\n",
       "      <td>...</td>\n",
       "      <td>...</td>\n",
       "      <td>...</td>\n",
       "      <td>...</td>\n",
       "      <td>...</td>\n",
       "      <td>...</td>\n",
       "      <td>...</td>\n",
       "      <td>...</td>\n",
       "      <td>...</td>\n",
       "      <td>...</td>\n",
       "    </tr>\n",
       "    <tr>\n",
       "      <td>16904</td>\n",
       "      <td>2018-06-30 19:00</td>\n",
       "      <td>0.271</td>\n",
       "      <td>0.754</td>\n",
       "      <td>0.327</td>\n",
       "      <td>0.468</td>\n",
       "      <td>0.314</td>\n",
       "      <td>0.769</td>\n",
       "      <td>0.790</td>\n",
       "      <td>0.558</td>\n",
       "      <td>0.149</td>\n",
       "      <td>...</td>\n",
       "      <td>0.750</td>\n",
       "      <td>0.523</td>\n",
       "      <td>0.455</td>\n",
       "      <td>0.295</td>\n",
       "      <td>0.056</td>\n",
       "      <td>0.295</td>\n",
       "      <td>2.089</td>\n",
       "      <td>0.619</td>\n",
       "      <td>0.345</td>\n",
       "      <td>0.565</td>\n",
       "    </tr>\n",
       "    <tr>\n",
       "      <td>16905</td>\n",
       "      <td>2018-06-30 20:00</td>\n",
       "      <td>0.341</td>\n",
       "      <td>0.827</td>\n",
       "      <td>0.478</td>\n",
       "      <td>0.356</td>\n",
       "      <td>0.434</td>\n",
       "      <td>0.680</td>\n",
       "      <td>0.819</td>\n",
       "      <td>0.470</td>\n",
       "      <td>0.160</td>\n",
       "      <td>...</td>\n",
       "      <td>0.670</td>\n",
       "      <td>0.350</td>\n",
       "      <td>0.799</td>\n",
       "      <td>0.287</td>\n",
       "      <td>0.057</td>\n",
       "      <td>0.548</td>\n",
       "      <td>2.168</td>\n",
       "      <td>0.723</td>\n",
       "      <td>0.388</td>\n",
       "      <td>0.620</td>\n",
       "    </tr>\n",
       "    <tr>\n",
       "      <td>16906</td>\n",
       "      <td>2018-06-30 21:00</td>\n",
       "      <td>0.535</td>\n",
       "      <td>0.516</td>\n",
       "      <td>0.558</td>\n",
       "      <td>0.496</td>\n",
       "      <td>0.479</td>\n",
       "      <td>0.590</td>\n",
       "      <td>0.910</td>\n",
       "      <td>0.424</td>\n",
       "      <td>0.468</td>\n",
       "      <td>...</td>\n",
       "      <td>0.631</td>\n",
       "      <td>0.446</td>\n",
       "      <td>0.754</td>\n",
       "      <td>0.433</td>\n",
       "      <td>0.060</td>\n",
       "      <td>0.677</td>\n",
       "      <td>2.028</td>\n",
       "      <td>0.766</td>\n",
       "      <td>0.440</td>\n",
       "      <td>0.573</td>\n",
       "    </tr>\n",
       "    <tr>\n",
       "      <td>16907</td>\n",
       "      <td>2018-06-30 22:00</td>\n",
       "      <td>0.379</td>\n",
       "      <td>0.494</td>\n",
       "      <td>0.605</td>\n",
       "      <td>0.320</td>\n",
       "      <td>0.555</td>\n",
       "      <td>0.604</td>\n",
       "      <td>1.044</td>\n",
       "      <td>0.412</td>\n",
       "      <td>0.480</td>\n",
       "      <td>...</td>\n",
       "      <td>0.533</td>\n",
       "      <td>0.567</td>\n",
       "      <td>0.504</td>\n",
       "      <td>0.384</td>\n",
       "      <td>0.210</td>\n",
       "      <td>1.019</td>\n",
       "      <td>1.055</td>\n",
       "      <td>0.735</td>\n",
       "      <td>0.393</td>\n",
       "      <td>0.629</td>\n",
       "    </tr>\n",
       "    <tr>\n",
       "      <td>16908</td>\n",
       "      <td>2018-06-30 23:00</td>\n",
       "      <td>0.388</td>\n",
       "      <td>0.482</td>\n",
       "      <td>0.651</td>\n",
       "      <td>0.284</td>\n",
       "      <td>0.452</td>\n",
       "      <td>0.629</td>\n",
       "      <td>1.116</td>\n",
       "      <td>0.400</td>\n",
       "      <td>0.274</td>\n",
       "      <td>...</td>\n",
       "      <td>0.477</td>\n",
       "      <td>0.495</td>\n",
       "      <td>0.410</td>\n",
       "      <td>0.343</td>\n",
       "      <td>0.420</td>\n",
       "      <td>0.746</td>\n",
       "      <td>0.738</td>\n",
       "      <td>0.689</td>\n",
       "      <td>0.323</td>\n",
       "      <td>0.422</td>\n",
       "    </tr>\n",
       "  </tbody>\n",
       "</table>\n",
       "<p>3262 rows × 1286 columns</p>\n",
       "</div>"
      ],
      "text/plain": [
       "                   Time   X692  X1272   X553  X1299   X598  X1003  X1010  \\\n",
       "13647  2018-02-15 02:00  0.314  0.440  0.461  0.308  0.174  0.341  0.400   \n",
       "13648  2018-02-15 03:00  0.309  0.292  0.524  0.279  0.198  0.343  0.393   \n",
       "13649  2018-02-15 04:00  0.327  0.298  0.486  0.364  0.155  0.388  0.388   \n",
       "13650  2018-02-15 05:00  0.303  0.254  0.514  0.953  0.198  0.338  0.402   \n",
       "13651  2018-02-15 06:00  0.273  0.290  0.486  0.547  0.153  0.492  0.352   \n",
       "...                 ...    ...    ...    ...    ...    ...    ...    ...   \n",
       "16904  2018-06-30 19:00  0.271  0.754  0.327  0.468  0.314  0.769  0.790   \n",
       "16905  2018-06-30 20:00  0.341  0.827  0.478  0.356  0.434  0.680  0.819   \n",
       "16906  2018-06-30 21:00  0.535  0.516  0.558  0.496  0.479  0.590  0.910   \n",
       "16907  2018-06-30 22:00  0.379  0.494  0.605  0.320  0.555  0.604  1.044   \n",
       "16908  2018-06-30 23:00  0.388  0.482  0.651  0.284  0.452  0.629  1.116   \n",
       "\n",
       "       X1216  X1047  ...  X1017  X1164   X656  X1287   X324   X767  X1271  \\\n",
       "13647  0.279  0.192  ...  0.530  0.656  0.219  0.222  0.094  0.355  0.149   \n",
       "13648  0.272  0.142  ...  0.526  0.659  0.224  0.282  0.071  0.164  0.142   \n",
       "13649  0.273  0.142  ...  0.687  0.598  0.201  0.257  0.062  0.136  0.174   \n",
       "13650  0.263  0.139  ...  0.864  0.593  0.191  0.258  0.132  0.128  0.168   \n",
       "13651  0.496  0.147  ...  0.661  0.714  0.184  0.215  0.407  0.198  0.168   \n",
       "...      ...    ...  ...    ...    ...    ...    ...    ...    ...    ...   \n",
       "16904  0.558  0.149  ...  0.750  0.523  0.455  0.295  0.056  0.295  2.089   \n",
       "16905  0.470  0.160  ...  0.670  0.350  0.799  0.287  0.057  0.548  2.168   \n",
       "16906  0.424  0.468  ...  0.631  0.446  0.754  0.433  0.060  0.677  2.028   \n",
       "16907  0.412  0.480  ...  0.533  0.567  0.504  0.384  0.210  1.019  1.055   \n",
       "16908  0.400  0.274  ...  0.477  0.495  0.410  0.343  0.420  0.746  0.738   \n",
       "\n",
       "       X1288  X1033  X1163  \n",
       "13647  0.390  0.347  0.135  \n",
       "13648  0.404  0.293  0.137  \n",
       "13649  0.216  0.346  0.169  \n",
       "13650  0.258  0.325  0.325  \n",
       "13651  0.197  0.306  0.188  \n",
       "...      ...    ...    ...  \n",
       "16904  0.619  0.345  0.565  \n",
       "16905  0.723  0.388  0.620  \n",
       "16906  0.766  0.440  0.573  \n",
       "16907  0.735  0.393  0.629  \n",
       "16908  0.689  0.323  0.422  \n",
       "\n",
       "[3262 rows x 1286 columns]"
      ]
     },
     "execution_count": 52,
     "metadata": {},
     "output_type": "execute_result"
    }
   ],
   "source": [
    "sub1"
   ]
  },
  {
   "cell_type": "code",
   "execution_count": 75,
   "metadata": {},
   "outputs": [
    {
     "data": {
      "text/plain": [
       "X692    200\n",
       "dtype: int64"
      ]
     },
     "execution_count": 75,
     "metadata": {},
     "output_type": "execute_result"
    }
   ],
   "source": [
    "sub1.iloc[:,1:2].isnull().sum()"
   ]
  },
  {
   "cell_type": "code",
   "execution_count": 76,
   "metadata": {},
   "outputs": [
    {
     "data": {
      "text/plain": [
       "0    0.275\n",
       "dtype: float64"
      ]
     },
     "execution_count": 76,
     "metadata": {},
     "output_type": "execute_result"
    }
   ],
   "source": [
    "sub1['X692'].mode()"
   ]
  },
  {
   "cell_type": "code",
   "execution_count": 78,
   "metadata": {
    "scrolled": true
   },
   "outputs": [
    {
     "name": "stderr",
     "output_type": "stream",
     "text": [
      "C:\\Users\\rkm14\\.conda\\envs\\python_3.7\\lib\\site-packages\\ipykernel_launcher.py:1: SettingWithCopyWarning: \n",
      "A value is trying to be set on a copy of a slice from a DataFrame.\n",
      "Try using .loc[row_indexer,col_indexer] = value instead\n",
      "\n",
      "See the caveats in the documentation: http://pandas.pydata.org/pandas-docs/stable/user_guide/indexing.html#returning-a-view-versus-a-copy\n",
      "  \"\"\"Entry point for launching an IPython kernel.\n"
     ]
    }
   ],
   "source": [
    "sub1['X692'] = sub1['X692'].fillna(sub1['X692'].mode())"
   ]
  },
  {
   "cell_type": "code",
   "execution_count": 63,
   "metadata": {
    "scrolled": true
   },
   "outputs": [
    {
     "data": {
      "application/vnd.jupyter.widget-view+json": {
       "model_id": "9845978e9e0840d5b7ccef446b352bbc",
       "version_major": 2,
       "version_minor": 0
      },
      "text/plain": [
       "HBox(children=(IntProgress(value=0, max=1285), HTML(value='')))"
      ]
     },
     "metadata": {},
     "output_type": "display_data"
    },
    {
     "name": "stdout",
     "output_type": "stream",
     "text": [
      "\n"
     ]
    }
   ],
   "source": [
    "for i in tqdm_notebook(range(0,1285)):\n",
    "    sub2 = sub1.iloc[:,i+1:i+2].fillna(val_t[i])"
   ]
  },
  {
   "cell_type": "code",
   "execution_count": 69,
   "metadata": {},
   "outputs": [
    {
     "data": {
      "text/plain": [
       "Time       0\n",
       "X692     200\n",
       "X1272    199\n",
       "X553     223\n",
       "X1299    258\n",
       "        ... \n",
       "X767     224\n",
       "X1271    199\n",
       "X1288    230\n",
       "X1033    220\n",
       "X1163    223\n",
       "Length: 1286, dtype: int64"
      ]
     },
     "execution_count": 69,
     "metadata": {},
     "output_type": "execute_result"
    }
   ],
   "source": [
    "sub1.isnull().sum()"
   ]
  },
  {
   "cell_type": "code",
   "execution_count": 65,
   "metadata": {},
   "outputs": [],
   "source": [
    "sub2.to_csv(\"sub3.csv\")"
   ]
  },
  {
   "cell_type": "code",
   "execution_count": 22,
   "metadata": {},
   "outputs": [
    {
     "data": {
      "text/html": [
       "<div>\n",
       "<style scoped>\n",
       "    .dataframe tbody tr th:only-of-type {\n",
       "        vertical-align: middle;\n",
       "    }\n",
       "\n",
       "    .dataframe tbody tr th {\n",
       "        vertical-align: top;\n",
       "    }\n",
       "\n",
       "    .dataframe thead th {\n",
       "        text-align: right;\n",
       "    }\n",
       "</style>\n",
       "<table border=\"1\" class=\"dataframe\">\n",
       "  <thead>\n",
       "    <tr style=\"text-align: right;\">\n",
       "      <th></th>\n",
       "      <th>X692</th>\n",
       "    </tr>\n",
       "  </thead>\n",
       "  <tbody>\n",
       "    <tr>\n",
       "      <td>0</td>\n",
       "      <td>0.275</td>\n",
       "    </tr>\n",
       "  </tbody>\n",
       "</table>\n",
       "</div>"
      ],
      "text/plain": [
       "    X692\n",
       "0  0.275"
      ]
     },
     "execution_count": 22,
     "metadata": {},
     "output_type": "execute_result"
    }
   ],
   "source": [
    "mode3.iloc[:, 0:1]"
   ]
  },
  {
   "cell_type": "code",
   "execution_count": 66,
   "metadata": {},
   "outputs": [],
   "source": [
    "filt = pd.read_csv('sub3.csv')"
   ]
  },
  {
   "cell_type": "code",
   "execution_count": 67,
   "metadata": {},
   "outputs": [
    {
     "data": {
      "text/plain": [
       "Unnamed: 0      0\n",
       "X1163         223\n",
       "dtype: int64"
      ]
     },
     "execution_count": 67,
     "metadata": {},
     "output_type": "execute_result"
    }
   ],
   "source": [
    "filt.isnull().sum()"
   ]
  },
  {
   "cell_type": "code",
   "execution_count": null,
   "metadata": {},
   "outputs": [],
   "source": []
  },
  {
   "cell_type": "code",
   "execution_count": null,
   "metadata": {},
   "outputs": [],
   "source": []
  },
  {
   "cell_type": "code",
   "execution_count": null,
   "metadata": {},
   "outputs": [],
   "source": []
  }
 ],
 "metadata": {
  "kernelspec": {
   "display_name": "Python 3",
   "language": "python",
   "name": "python3"
  },
  "language_info": {
   "codemirror_mode": {
    "name": "ipython",
    "version": 3
   },
   "file_extension": ".py",
   "mimetype": "text/x-python",
   "name": "python",
   "nbconvert_exporter": "python",
   "pygments_lexer": "ipython3",
   "version": "3.7.3"
  }
 },
 "nbformat": 4,
 "nbformat_minor": 2
}
