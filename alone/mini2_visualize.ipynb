{
 "cells": [
  {
   "cell_type": "code",
   "execution_count": 200,
   "metadata": {},
   "outputs": [],
   "source": [
    "import pandas as pd \n",
    "import numpy as np\n",
    "from tqdm import tqdm\n",
    "import datetime\n",
    "from matplotlib import pyplot as plt\n",
    "from pandas import DataFrame\n",
    "import seaborn as sns\n",
    "%matplotlib inline"
   ]
  },
  {
   "cell_type": "code",
   "execution_count": 87,
   "metadata": {},
   "outputs": [
    {
     "data": {
      "text/plain": [
       "[('NanumBarunGothic', 'C:\\\\Windows\\\\Fonts\\\\NanumBarunGothicUltraLight.ttf'),\n",
       " ('NanumSquare', 'C:\\\\Windows\\\\Fonts\\\\NanumSquareR.ttf'),\n",
       " ('NanumSquareRound', 'C:\\\\Windows\\\\Fonts\\\\NanumSquareRoundEB.ttf'),\n",
       " ('NanumSquareRound', 'C:\\\\Windows\\\\Fonts\\\\NanumSquareRoundL.ttf'),\n",
       " ('Nanum Brush Script', 'C:\\\\Windows\\\\Fonts\\\\NanumBrush.ttf'),\n",
       " ('NanumBarunpen', 'C:\\\\Windows\\\\Fonts\\\\NanumBarunpenB.ttf'),\n",
       " ('NanumSquareRound', 'C:\\\\Windows\\\\Fonts\\\\NanumSquareRoundB.ttf'),\n",
       " ('NanumBarunGothic', 'C:\\\\Windows\\\\Fonts\\\\NanumBarunGothicBold.ttf'),\n",
       " ('NanumMyeongjo', 'C:\\\\Windows\\\\Fonts\\\\NanumMyeongjoExtraBold.ttf'),\n",
       " ('Nanum Pen Script', 'C:\\\\Windows\\\\Fonts\\\\NanumPen.ttf'),\n",
       " ('NanumSquare', 'C:\\\\Windows\\\\Fonts\\\\NanumSquareL.ttf'),\n",
       " ('NanumMyeongjo', 'C:\\\\Windows\\\\Fonts\\\\NanumMyeongjoBold.ttf'),\n",
       " ('NanumGothic', 'C:\\\\Windows\\\\Fonts\\\\NanumGothicBold.ttf'),\n",
       " ('NanumGothic', 'C:\\\\Windows\\\\Fonts\\\\NanumGothic.ttf'),\n",
       " ('NanumGothic', 'C:\\\\Windows\\\\Fonts\\\\NanumGothicLight.ttf'),\n",
       " ('NanumGothic', 'C:\\\\Windows\\\\Fonts\\\\NanumGothicExtraBold.ttf'),\n",
       " ('NanumBarunGothic', 'C:\\\\Windows\\\\Fonts\\\\NanumBarunGothic.ttf'),\n",
       " ('NanumMyeongjo', 'C:\\\\Windows\\\\Fonts\\\\NanumMyeongjo.ttf'),\n",
       " ('NanumBarunGothic', 'C:\\\\Windows\\\\Fonts\\\\NanumBarunGothicLight.ttf'),\n",
       " ('NanumSquare', 'C:\\\\Windows\\\\Fonts\\\\NanumSquareB.ttf'),\n",
       " ('NanumSquare', 'C:\\\\Windows\\\\Fonts\\\\NanumSquareEB.ttf'),\n",
       " ('NanumSquareRound', 'C:\\\\Windows\\\\Fonts\\\\NanumSquareRoundR.ttf'),\n",
       " ('NanumBarunpen', 'C:\\\\Windows\\\\Fonts\\\\NanumBarunpenR.ttf')]"
      ]
     },
     "execution_count": 87,
     "metadata": {},
     "output_type": "execute_result"
    }
   ],
   "source": [
    "import matplotlib.font_manager as fm\n",
    "[(f.name, f.fname) for f in fm.fontManager.ttflist if 'Nanum' in f.name]"
   ]
  },
  {
   "cell_type": "code",
   "execution_count": 88,
   "metadata": {},
   "outputs": [],
   "source": [
    "plt.rcParams[\"font.family\"] = 'NanumBarunGothic'"
   ]
  },
  {
   "cell_type": "markdown",
   "metadata": {},
   "source": [
    "# 데이터 읽기"
   ]
  },
  {
   "cell_type": "code",
   "execution_count": 201,
   "metadata": {},
   "outputs": [],
   "source": [
    "txi = pd.read_csv(\"data/call_taxi.csv\", encoding= 'euc-kr')"
   ]
  },
  {
   "cell_type": "code",
   "execution_count": 202,
   "metadata": {},
   "outputs": [],
   "source": [
    "dis = pd.read_csv(\"data/dis_pop.csv\",encoding = 'euc-kr')"
   ]
  },
  {
   "cell_type": "code",
   "execution_count": 203,
   "metadata": {},
   "outputs": [
    {
     "data": {
      "text/html": [
       "<div>\n",
       "<style scoped>\n",
       "    .dataframe tbody tr th:only-of-type {\n",
       "        vertical-align: middle;\n",
       "    }\n",
       "\n",
       "    .dataframe tbody tr th {\n",
       "        vertical-align: top;\n",
       "    }\n",
       "\n",
       "    .dataframe thead th {\n",
       "        text-align: right;\n",
       "    }\n",
       "</style>\n",
       "<table border=\"1\" class=\"dataframe\">\n",
       "  <thead>\n",
       "    <tr style=\"text-align: right;\">\n",
       "      <th></th>\n",
       "      <th>차량고유번호</th>\n",
       "      <th>차량타입</th>\n",
       "      <th>예정일시</th>\n",
       "      <th>배차일시</th>\n",
       "      <th>승차일시</th>\n",
       "      <th>출발지(구)</th>\n",
       "      <th>출발지(동)</th>\n",
       "      <th>목적지(구)</th>\n",
       "      <th>목적지(동)</th>\n",
       "    </tr>\n",
       "  </thead>\n",
       "  <tbody>\n",
       "    <tr>\n",
       "      <th>0</th>\n",
       "      <td>9568</td>\n",
       "      <td>중형승합</td>\n",
       "      <td>2018-01-01 00:03:00</td>\n",
       "      <td>2018-01-01 02:19:23</td>\n",
       "      <td>2018-01-01 02:48:48</td>\n",
       "      <td>중구</td>\n",
       "      <td>명동</td>\n",
       "      <td>용산구</td>\n",
       "      <td>한강로동</td>\n",
       "    </tr>\n",
       "    <tr>\n",
       "      <th>1</th>\n",
       "      <td>7638</td>\n",
       "      <td>중형승합</td>\n",
       "      <td>2018-01-01 00:04:00</td>\n",
       "      <td>2018-01-01 02:24:19</td>\n",
       "      <td>2018-01-01 02:46:04</td>\n",
       "      <td>서초구</td>\n",
       "      <td>반포1동</td>\n",
       "      <td>강서구</td>\n",
       "      <td>등촌제3동</td>\n",
       "    </tr>\n",
       "    <tr>\n",
       "      <th>2</th>\n",
       "      <td>5807</td>\n",
       "      <td>중형승합</td>\n",
       "      <td>2018-01-01 00:08:00</td>\n",
       "      <td>2018-01-01 02:27:53</td>\n",
       "      <td>2018-01-01 02:48:29</td>\n",
       "      <td>강북구</td>\n",
       "      <td>인수동</td>\n",
       "      <td>노원구</td>\n",
       "      <td>하계2동</td>\n",
       "    </tr>\n",
       "    <tr>\n",
       "      <th>3</th>\n",
       "      <td>1061</td>\n",
       "      <td>중형승합</td>\n",
       "      <td>2018-01-01 00:21:00</td>\n",
       "      <td>2018-01-01 03:48:11</td>\n",
       "      <td>2018-01-01 03:59:29</td>\n",
       "      <td>관악구</td>\n",
       "      <td>청림동</td>\n",
       "      <td>성북구</td>\n",
       "      <td>안암동</td>\n",
       "    </tr>\n",
       "    <tr>\n",
       "      <th>4</th>\n",
       "      <td>7658</td>\n",
       "      <td>중형승합</td>\n",
       "      <td>2018-01-01 00:25:00</td>\n",
       "      <td>2018-01-01 03:55:17</td>\n",
       "      <td>2018-01-01 04:17:58</td>\n",
       "      <td>노원구</td>\n",
       "      <td>월계1동</td>\n",
       "      <td>노원구</td>\n",
       "      <td>상계5동</td>\n",
       "    </tr>\n",
       "    <tr>\n",
       "      <th>5</th>\n",
       "      <td>9568</td>\n",
       "      <td>중형승합</td>\n",
       "      <td>2018-01-01 00:26:00</td>\n",
       "      <td>2018-01-01 03:10:37</td>\n",
       "      <td>2018-01-01 03:29:05</td>\n",
       "      <td>용산구</td>\n",
       "      <td>청파동</td>\n",
       "      <td>금천구</td>\n",
       "      <td>시흥제1동</td>\n",
       "    </tr>\n",
       "    <tr>\n",
       "      <th>6</th>\n",
       "      <td>9568</td>\n",
       "      <td>중형승합</td>\n",
       "      <td>2018-01-01 00:26:00</td>\n",
       "      <td>2018-01-01 04:11:45</td>\n",
       "      <td>2018-01-01 04:26:14</td>\n",
       "      <td>구로구</td>\n",
       "      <td>구로제3동</td>\n",
       "      <td>관악구</td>\n",
       "      <td>성현동</td>\n",
       "    </tr>\n",
       "    <tr>\n",
       "      <th>7</th>\n",
       "      <td>1061</td>\n",
       "      <td>중형승합</td>\n",
       "      <td>2018-01-01 00:27:00</td>\n",
       "      <td>2018-01-01 02:42:20</td>\n",
       "      <td>2018-01-01 03:15:58</td>\n",
       "      <td>강서구</td>\n",
       "      <td>방화제1동</td>\n",
       "      <td>동작구</td>\n",
       "      <td>노량진제1동</td>\n",
       "    </tr>\n",
       "    <tr>\n",
       "      <th>8</th>\n",
       "      <td>7658</td>\n",
       "      <td>중형승합</td>\n",
       "      <td>2018-01-01 00:31:00</td>\n",
       "      <td>2018-01-01 02:47:07</td>\n",
       "      <td>2018-01-01 03:01:41</td>\n",
       "      <td>영등포구</td>\n",
       "      <td>여의동</td>\n",
       "      <td>강북구</td>\n",
       "      <td>우이동</td>\n",
       "    </tr>\n",
       "    <tr>\n",
       "      <th>9</th>\n",
       "      <td>7650</td>\n",
       "      <td>중형승합</td>\n",
       "      <td>2018-01-01 00:34:00</td>\n",
       "      <td>2018-01-01 04:03:50</td>\n",
       "      <td>2018-01-01 04:17:26</td>\n",
       "      <td>송파구</td>\n",
       "      <td>잠실7동</td>\n",
       "      <td>관악구</td>\n",
       "      <td>행운동</td>\n",
       "    </tr>\n",
       "  </tbody>\n",
       "</table>\n",
       "</div>"
      ],
      "text/plain": [
       "   차량고유번호  차량타입                 예정일시                 배차일시  \\\n",
       "0    9568  중형승합  2018-01-01 00:03:00  2018-01-01 02:19:23   \n",
       "1    7638  중형승합  2018-01-01 00:04:00  2018-01-01 02:24:19   \n",
       "2    5807  중형승합  2018-01-01 00:08:00  2018-01-01 02:27:53   \n",
       "3    1061  중형승합  2018-01-01 00:21:00  2018-01-01 03:48:11   \n",
       "4    7658  중형승합  2018-01-01 00:25:00  2018-01-01 03:55:17   \n",
       "5    9568  중형승합  2018-01-01 00:26:00  2018-01-01 03:10:37   \n",
       "6    9568  중형승합  2018-01-01 00:26:00  2018-01-01 04:11:45   \n",
       "7    1061  중형승합  2018-01-01 00:27:00  2018-01-01 02:42:20   \n",
       "8    7658  중형승합  2018-01-01 00:31:00  2018-01-01 02:47:07   \n",
       "9    7650  중형승합  2018-01-01 00:34:00  2018-01-01 04:03:50   \n",
       "\n",
       "                  승차일시 출발지(구) 출발지(동) 목적지(구)  목적지(동)  \n",
       "0  2018-01-01 02:48:48     중구     명동    용산구    한강로동  \n",
       "1  2018-01-01 02:46:04    서초구   반포1동    강서구   등촌제3동  \n",
       "2  2018-01-01 02:48:29    강북구    인수동    노원구    하계2동  \n",
       "3  2018-01-01 03:59:29    관악구    청림동    성북구     안암동  \n",
       "4  2018-01-01 04:17:58    노원구   월계1동    노원구    상계5동  \n",
       "5  2018-01-01 03:29:05    용산구    청파동    금천구   시흥제1동  \n",
       "6  2018-01-01 04:26:14    구로구  구로제3동    관악구     성현동  \n",
       "7  2018-01-01 03:15:58    강서구  방화제1동    동작구  노량진제1동  \n",
       "8  2018-01-01 03:01:41   영등포구    여의동    강북구     우이동  \n",
       "9  2018-01-01 04:17:26    송파구   잠실7동    관악구     행운동  "
      ]
     },
     "execution_count": 203,
     "metadata": {},
     "output_type": "execute_result"
    }
   ],
   "source": [
    "txi.head(10)"
   ]
  },
  {
   "cell_type": "code",
   "execution_count": 204,
   "metadata": {
    "scrolled": true
   },
   "outputs": [
    {
     "data": {
      "text/html": [
       "<div>\n",
       "<style scoped>\n",
       "    .dataframe tbody tr th:only-of-type {\n",
       "        vertical-align: middle;\n",
       "    }\n",
       "\n",
       "    .dataframe tbody tr th {\n",
       "        vertical-align: top;\n",
       "    }\n",
       "\n",
       "    .dataframe thead th {\n",
       "        text-align: right;\n",
       "    }\n",
       "</style>\n",
       "<table border=\"1\" class=\"dataframe\">\n",
       "  <thead>\n",
       "    <tr style=\"text-align: right;\">\n",
       "      <th></th>\n",
       "      <th>기준년도</th>\n",
       "      <th>구</th>\n",
       "      <th>동</th>\n",
       "      <th>합계</th>\n",
       "    </tr>\n",
       "  </thead>\n",
       "  <tbody>\n",
       "    <tr>\n",
       "      <th>0</th>\n",
       "      <td>2018</td>\n",
       "      <td>종로구</td>\n",
       "      <td>소계</td>\n",
       "      <td>6,017</td>\n",
       "    </tr>\n",
       "    <tr>\n",
       "      <th>1</th>\n",
       "      <td>2018</td>\n",
       "      <td>종로구</td>\n",
       "      <td>사직동</td>\n",
       "      <td>309</td>\n",
       "    </tr>\n",
       "    <tr>\n",
       "      <th>2</th>\n",
       "      <td>2018</td>\n",
       "      <td>종로구</td>\n",
       "      <td>삼청동</td>\n",
       "      <td>118</td>\n",
       "    </tr>\n",
       "    <tr>\n",
       "      <th>3</th>\n",
       "      <td>2018</td>\n",
       "      <td>종로구</td>\n",
       "      <td>부암동</td>\n",
       "      <td>325</td>\n",
       "    </tr>\n",
       "    <tr>\n",
       "      <th>4</th>\n",
       "      <td>2018</td>\n",
       "      <td>종로구</td>\n",
       "      <td>평창동</td>\n",
       "      <td>542</td>\n",
       "    </tr>\n",
       "  </tbody>\n",
       "</table>\n",
       "</div>"
      ],
      "text/plain": [
       "   기준년도    구    동     합계\n",
       "0  2018  종로구   소계  6,017\n",
       "1  2018  종로구  사직동    309\n",
       "2  2018  종로구  삼청동    118\n",
       "3  2018  종로구  부암동    325\n",
       "4  2018  종로구  평창동    542"
      ]
     },
     "execution_count": 204,
     "metadata": {},
     "output_type": "execute_result"
    }
   ],
   "source": [
    "dis.head()"
   ]
  },
  {
   "cell_type": "code",
   "execution_count": 205,
   "metadata": {},
   "outputs": [],
   "source": [
    "start = pd.DataFrame(txi.groupby('출발지(구)')['출발지(동)'].count().sort_values(ascending=False))"
   ]
  },
  {
   "cell_type": "code",
   "execution_count": 206,
   "metadata": {},
   "outputs": [
    {
     "data": {
      "text/plain": [
       "Text(0, 0.5, '출발지(동)')"
      ]
     },
     "execution_count": 206,
     "metadata": {},
     "output_type": "execute_result"
    },
    {
     "data": {
      "image/png": "[encoded data removed]",
      "text/plain": [
       "<Figure size 864x288 with 1 Axes>"
      ]
     },
     "metadata": {
      "needs_background": "light"
     },
     "output_type": "display_data"
    }
   ],
   "source": [
    "sta_ax = start.plot(kind='bar', title='출발지(구) 순서 그래프', figsize=(12, 4), legend=True, fontsize=12, color='black')\n",
    "sta_ax.set_xlabel('출발지(구)', fontsize=12)\n",
    "sta_ax.set_ylabel('출발지(동)', fontsize=12)"
   ]
  },
  {
   "cell_type": "code",
   "execution_count": 207,
   "metadata": {},
   "outputs": [],
   "source": [
    "arrive =  pd.DataFrame(txi.groupby('목적지(구)')['목적지(동)'].count().sort_values(ascending=False))"
   ]
  },
  {
   "cell_type": "code",
   "execution_count": 208,
   "metadata": {},
   "outputs": [
    {
     "data": {
      "text/plain": [
       "Text(0, 0.5, '도착지(동)')"
      ]
     },
     "execution_count": 208,
     "metadata": {},
     "output_type": "execute_result"
    },
    {
     "data": {
      "image/png": "[encoded data removed]",
      "text/plain": [
       "<Figure size 864x288 with 1 Axes>"
      ]
     },
     "metadata": {
      "needs_background": "light"
     },
     "output_type": "display_data"
    }
   ],
   "source": [
    "ari_ax = arrive.plot(kind='bar', title='도착지(구) 순서 그래프', figsize=(12, 4), legend=True, fontsize=12, color='black')\n",
    "ari_ax.set_xlabel('도착지(구)', fontsize=12)\n",
    "ari_ax.set_ylabel('도착지(동)', fontsize=12)"
   ]
  },
  {
   "cell_type": "code",
   "execution_count": 215,
   "metadata": {},
   "outputs": [
    {
     "data": {
      "text/plain": [
       "datetime.datetime(2018, 1, 1, 0, 4)"
      ]
     },
     "execution_count": 215,
     "metadata": {},
     "output_type": "execute_result"
    }
   ],
   "source": [
    "datetime.datetime.strptime(txi['예정일시'][1], '%Y-%m-%d %H:%M:%S')"
   ]
  },
  {
   "cell_type": "code",
   "execution_count": null,
   "metadata": {},
   "outputs": [],
   "source": []
  }
 ],
 "metadata": {
  "kernelspec": {
   "display_name": "Python 3",
   "language": "python",
   "name": "python3"
  },
  "language_info": {
   "codemirror_mode": {
    "name": "ipython",
    "version": 3
   },
   "file_extension": ".py",
   "mimetype": "text/x-python",
   "name": "python",
   "nbconvert_exporter": "python",
   "pygments_lexer": "ipython3",
   "version": "3.6.8"
  }
 },
 "nbformat": 4,
 "nbformat_minor": 2
}
