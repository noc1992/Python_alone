{
 "cells": [
  {
   "cell_type": "code",
   "execution_count": 1,
   "metadata": {},
   "outputs": [],
   "source": [
    "import pandas as pd\n",
    "import numpy as np"
   ]
  },
  {
   "cell_type": "markdown",
   "metadata": {},
   "source": [
    "# Competition을 위한 데이터 처리 예제"
   ]
  },
  {
   "cell_type": "markdown",
   "metadata": {},
   "source": [
    "- mem_data.csv 파일의 GENDER 열과 MEM_ID열은 모델링에 사용됨에 따라 수정하시면 안됩니다."
   ]
  },
  {
   "cell_type": "code",
   "execution_count": 2,
   "metadata": {},
   "outputs": [],
   "source": [
    "mem_data = pd.read_csv('data/mem_data.csv')\n",
    "mem_tr = pd.read_csv('data/mem_transaction.csv')\n",
    "s_info = pd.read_csv('data/store_info.csv')"
   ]
  },
  {
   "cell_type": "code",
   "execution_count": 3,
   "metadata": {},
   "outputs": [
    {
     "name": "stdout",
     "output_type": "stream",
     "text": [
      "<class 'pandas.core.frame.DataFrame'>\n",
      "RangeIndex: 10764 entries, 0 to 10763\n",
      "Data columns (total 15 columns):\n",
      "MEM_ID         10764 non-null int64\n",
      "M_STORE_ID     10764 non-null int64\n",
      "GENDER         10764 non-null object\n",
      "BIRTH_DT       5997 non-null object\n",
      "BIRTH_SL       10764 non-null object\n",
      "ZIP_CD         10764 non-null object\n",
      "RGST_DT        10764 non-null object\n",
      "VISIT_CNT      10764 non-null float64\n",
      "SALES_AMT      10764 non-null float64\n",
      "LAST_VST_DT    10764 non-null object\n",
      "USABLE_PNT     10764 non-null float64\n",
      "USED_PNT       10764 non-null float64\n",
      "ACC_PNT        10764 non-null float64\n",
      "USABLE_INIT    10764 non-null float64\n",
      "SMS            10764 non-null object\n",
      "dtypes: float64(6), int64(2), object(7)\n",
      "memory usage: 1.2+ MB\n"
     ]
    }
   ],
   "source": [
    "mem_data.info()"
   ]
  },
  {
   "cell_type": "code",
   "execution_count": 8,
   "metadata": {},
   "outputs": [
    {
     "data": {
      "text/html": [
       "<div>\n",
       "<style scoped>\n",
       "    .dataframe tbody tr th:only-of-type {\n",
       "        vertical-align: middle;\n",
       "    }\n",
       "\n",
       "    .dataframe tbody tr th {\n",
       "        vertical-align: top;\n",
       "    }\n",
       "\n",
       "    .dataframe thead th {\n",
       "        text-align: right;\n",
       "    }\n",
       "</style>\n",
       "<table border=\"1\" class=\"dataframe\">\n",
       "  <thead>\n",
       "    <tr style=\"text-align: right;\">\n",
       "      <th></th>\n",
       "      <th>MEM_ID</th>\n",
       "      <th>M_STORE_ID</th>\n",
       "      <th>GENDER</th>\n",
       "      <th>BIRTH_DT</th>\n",
       "      <th>BIRTH_SL</th>\n",
       "      <th>ZIP_CD</th>\n",
       "      <th>RGST_DT</th>\n",
       "      <th>VISIT_CNT</th>\n",
       "      <th>SALES_AMT</th>\n",
       "      <th>LAST_VST_DT</th>\n",
       "      <th>USABLE_PNT</th>\n",
       "      <th>USED_PNT</th>\n",
       "      <th>ACC_PNT</th>\n",
       "      <th>USABLE_INIT</th>\n",
       "      <th>SMS</th>\n",
       "    </tr>\n",
       "  </thead>\n",
       "  <tbody>\n",
       "    <tr>\n",
       "      <th>0</th>\n",
       "      <td>1134945</td>\n",
       "      <td>1084</td>\n",
       "      <td>M</td>\n",
       "      <td>NaN</td>\n",
       "      <td>S</td>\n",
       "      <td>-</td>\n",
       "      <td>2006-02-04 11:51:08.233000000</td>\n",
       "      <td>8.0</td>\n",
       "      <td>337000.0</td>\n",
       "      <td>2007-01-19 21:46:12.827000000</td>\n",
       "      <td>6740.0</td>\n",
       "      <td>0.0</td>\n",
       "      <td>6740.0</td>\n",
       "      <td>3202.0</td>\n",
       "      <td>Y</td>\n",
       "    </tr>\n",
       "    <tr>\n",
       "      <th>1</th>\n",
       "      <td>38458</td>\n",
       "      <td>539</td>\n",
       "      <td>F</td>\n",
       "      <td>1973-07-11</td>\n",
       "      <td>S</td>\n",
       "      <td>420-721</td>\n",
       "      <td>2006-02-04 11:51:08.233000000</td>\n",
       "      <td>22.0</td>\n",
       "      <td>1438500.0</td>\n",
       "      <td>2007-10-18 19:57:45.503000000</td>\n",
       "      <td>1732.0</td>\n",
       "      <td>12000.0</td>\n",
       "      <td>13732.0</td>\n",
       "      <td>17762.0</td>\n",
       "      <td>Y</td>\n",
       "    </tr>\n",
       "    <tr>\n",
       "      <th>2</th>\n",
       "      <td>7009</td>\n",
       "      <td>1113</td>\n",
       "      <td>F</td>\n",
       "      <td>1973-04-06</td>\n",
       "      <td>S</td>\n",
       "      <td>-</td>\n",
       "      <td>2006-02-04 11:51:08.233000000</td>\n",
       "      <td>8.0</td>\n",
       "      <td>309300.0</td>\n",
       "      <td>2007-05-30 15:21:10.863000000</td>\n",
       "      <td>6372.0</td>\n",
       "      <td>0.0</td>\n",
       "      <td>6372.0</td>\n",
       "      <td>1856.0</td>\n",
       "      <td>Y</td>\n",
       "    </tr>\n",
       "    <tr>\n",
       "      <th>3</th>\n",
       "      <td>91791</td>\n",
       "      <td>2273</td>\n",
       "      <td>UNKNOWN</td>\n",
       "      <td>1968-09-05</td>\n",
       "      <td>S</td>\n",
       "      <td>487-820</td>\n",
       "      <td>2006-02-04 11:51:08.233000000</td>\n",
       "      <td>11.0</td>\n",
       "      <td>170400.0</td>\n",
       "      <td>2007-10-16 15:55:52.483000000</td>\n",
       "      <td>3408.0</td>\n",
       "      <td>0.0</td>\n",
       "      <td>3408.0</td>\n",
       "      <td>236.0</td>\n",
       "      <td>Y</td>\n",
       "    </tr>\n",
       "    <tr>\n",
       "      <th>4</th>\n",
       "      <td>1374842</td>\n",
       "      <td>1300</td>\n",
       "      <td>M</td>\n",
       "      <td>NaN</td>\n",
       "      <td>S</td>\n",
       "      <td>-</td>\n",
       "      <td>2006-02-04 11:51:08.233000000</td>\n",
       "      <td>3.0</td>\n",
       "      <td>110300.0</td>\n",
       "      <td>2007-03-25 12:49:30.170000000</td>\n",
       "      <td>2206.0</td>\n",
       "      <td>0.0</td>\n",
       "      <td>2206.0</td>\n",
       "      <td>1522.0</td>\n",
       "      <td>Y</td>\n",
       "    </tr>\n",
       "  </tbody>\n",
       "</table>\n",
       "</div>"
      ],
      "text/plain": [
       "    MEM_ID  M_STORE_ID   GENDER    BIRTH_DT BIRTH_SL   ZIP_CD  \\\n",
       "0  1134945        1084        M         NaN        S        -   \n",
       "1    38458         539        F  1973-07-11        S  420-721   \n",
       "2     7009        1113        F  1973-04-06        S        -   \n",
       "3    91791        2273  UNKNOWN  1968-09-05        S  487-820   \n",
       "4  1374842        1300        M         NaN        S        -   \n",
       "\n",
       "                         RGST_DT  VISIT_CNT  SALES_AMT  \\\n",
       "0  2006-02-04 11:51:08.233000000        8.0   337000.0   \n",
       "1  2006-02-04 11:51:08.233000000       22.0  1438500.0   \n",
       "2  2006-02-04 11:51:08.233000000        8.0   309300.0   \n",
       "3  2006-02-04 11:51:08.233000000       11.0   170400.0   \n",
       "4  2006-02-04 11:51:08.233000000        3.0   110300.0   \n",
       "\n",
       "                     LAST_VST_DT  USABLE_PNT  USED_PNT  ACC_PNT  USABLE_INIT  \\\n",
       "0  2007-01-19 21:46:12.827000000      6740.0       0.0   6740.0       3202.0   \n",
       "1  2007-10-18 19:57:45.503000000      1732.0   12000.0  13732.0      17762.0   \n",
       "2  2007-05-30 15:21:10.863000000      6372.0       0.0   6372.0       1856.0   \n",
       "3  2007-10-16 15:55:52.483000000      3408.0       0.0   3408.0        236.0   \n",
       "4  2007-03-25 12:49:30.170000000      2206.0       0.0   2206.0       1522.0   \n",
       "\n",
       "  SMS  \n",
       "0   Y  \n",
       "1   Y  \n",
       "2   Y  \n",
       "3   Y  \n",
       "4   Y  "
      ]
     },
     "execution_count": 8,
     "metadata": {},
     "output_type": "execute_result"
    }
   ],
   "source": [
    "mem_data.head()"
   ]
  },
  {
   "cell_type": "code",
   "execution_count": 18,
   "metadata": {},
   "outputs": [
    {
     "data": {
      "text/plain": [
       "S    8973\n",
       "L    1791\n",
       "Name: BIRTH_SL, dtype: int64"
      ]
     },
     "execution_count": 18,
     "metadata": {},
     "output_type": "execute_result"
    }
   ],
   "source": [
    "mem_data.BIRTH_SL.value_counts()"
   ]
  },
  {
   "cell_type": "code",
   "execution_count": 4,
   "metadata": {},
   "outputs": [
    {
     "data": {
      "text/html": [
       "<div>\n",
       "<style scoped>\n",
       "    .dataframe tbody tr th:only-of-type {\n",
       "        vertical-align: middle;\n",
       "    }\n",
       "\n",
       "    .dataframe tbody tr th {\n",
       "        vertical-align: top;\n",
       "    }\n",
       "\n",
       "    .dataframe thead th {\n",
       "        text-align: right;\n",
       "    }\n",
       "</style>\n",
       "<table border=\"1\" class=\"dataframe\">\n",
       "  <thead>\n",
       "    <tr style=\"text-align: right;\">\n",
       "      <th></th>\n",
       "      <th>STORE_ID</th>\n",
       "      <th>SELL_DT</th>\n",
       "      <th>MEMP_STY</th>\n",
       "      <th>MEM_ID</th>\n",
       "      <th>MEMP_DT</th>\n",
       "      <th>SELL_AMT</th>\n",
       "      <th>MEMP_TP</th>\n",
       "    </tr>\n",
       "  </thead>\n",
       "  <tbody>\n",
       "    <tr>\n",
       "      <th>0</th>\n",
       "      <td>125</td>\n",
       "      <td>20060227</td>\n",
       "      <td>O</td>\n",
       "      <td>1225434</td>\n",
       "      <td>2006-02-27 13:57:44.750000000</td>\n",
       "      <td>15500</td>\n",
       "      <td>A</td>\n",
       "    </tr>\n",
       "    <tr>\n",
       "      <th>1</th>\n",
       "      <td>125</td>\n",
       "      <td>20060303</td>\n",
       "      <td>O</td>\n",
       "      <td>1181938</td>\n",
       "      <td>2006-03-03 15:43:56.987000000</td>\n",
       "      <td>22600</td>\n",
       "      <td>A</td>\n",
       "    </tr>\n",
       "    <tr>\n",
       "      <th>2</th>\n",
       "      <td>125</td>\n",
       "      <td>20060322</td>\n",
       "      <td>O</td>\n",
       "      <td>6093</td>\n",
       "      <td>2006-03-22 18:08:45.563000000</td>\n",
       "      <td>11000</td>\n",
       "      <td>A</td>\n",
       "    </tr>\n",
       "    <tr>\n",
       "      <th>3</th>\n",
       "      <td>125</td>\n",
       "      <td>20060403</td>\n",
       "      <td>O</td>\n",
       "      <td>1398202</td>\n",
       "      <td>2006-04-03 13:36:27.040000000</td>\n",
       "      <td>14400</td>\n",
       "      <td>A</td>\n",
       "    </tr>\n",
       "    <tr>\n",
       "      <th>4</th>\n",
       "      <td>125</td>\n",
       "      <td>20060418</td>\n",
       "      <td>O</td>\n",
       "      <td>1225434</td>\n",
       "      <td>2006-04-18 16:04:39.583000000</td>\n",
       "      <td>6600</td>\n",
       "      <td>A</td>\n",
       "    </tr>\n",
       "  </tbody>\n",
       "</table>\n",
       "</div>"
      ],
      "text/plain": [
       "   STORE_ID   SELL_DT MEMP_STY   MEM_ID                        MEMP_DT  \\\n",
       "0       125  20060227        O  1225434  2006-02-27 13:57:44.750000000   \n",
       "1       125  20060303        O  1181938  2006-03-03 15:43:56.987000000   \n",
       "2       125  20060322        O     6093  2006-03-22 18:08:45.563000000   \n",
       "3       125  20060403        O  1398202  2006-04-03 13:36:27.040000000   \n",
       "4       125  20060418        O  1225434  2006-04-18 16:04:39.583000000   \n",
       "\n",
       "   SELL_AMT MEMP_TP  \n",
       "0     15500       A  \n",
       "1     22600       A  \n",
       "2     11000       A  \n",
       "3     14400       A  \n",
       "4      6600       A  "
      ]
     },
     "execution_count": 4,
     "metadata": {},
     "output_type": "execute_result"
    }
   ],
   "source": [
    "mem_tr.head()"
   ]
  },
  {
   "cell_type": "code",
   "execution_count": 11,
   "metadata": {},
   "outputs": [
    {
     "data": {
      "text/html": [
       "<div>\n",
       "<style scoped>\n",
       "    .dataframe tbody tr th:only-of-type {\n",
       "        vertical-align: middle;\n",
       "    }\n",
       "\n",
       "    .dataframe tbody tr th {\n",
       "        vertical-align: top;\n",
       "    }\n",
       "\n",
       "    .dataframe thead th {\n",
       "        text-align: right;\n",
       "    }\n",
       "</style>\n",
       "<table border=\"1\" class=\"dataframe\">\n",
       "  <thead>\n",
       "    <tr style=\"text-align: right;\">\n",
       "      <th></th>\n",
       "      <th>STORE_ID</th>\n",
       "      <th>STORE_REGION</th>\n",
       "    </tr>\n",
       "  </thead>\n",
       "  <tbody>\n",
       "    <tr>\n",
       "      <th>0</th>\n",
       "      <td>128</td>\n",
       "      <td>2</td>\n",
       "    </tr>\n",
       "    <tr>\n",
       "      <th>1</th>\n",
       "      <td>129</td>\n",
       "      <td>2</td>\n",
       "    </tr>\n",
       "    <tr>\n",
       "      <th>2</th>\n",
       "      <td>130</td>\n",
       "      <td>11</td>\n",
       "    </tr>\n",
       "    <tr>\n",
       "      <th>3</th>\n",
       "      <td>133</td>\n",
       "      <td>16</td>\n",
       "    </tr>\n",
       "    <tr>\n",
       "      <th>4</th>\n",
       "      <td>136</td>\n",
       "      <td>13</td>\n",
       "    </tr>\n",
       "  </tbody>\n",
       "</table>\n",
       "</div>"
      ],
      "text/plain": [
       "   STORE_ID  STORE_REGION\n",
       "0       128             2\n",
       "1       129             2\n",
       "2       130            11\n",
       "3       133            16\n",
       "4       136            13"
      ]
     },
     "execution_count": 11,
     "metadata": {},
     "output_type": "execute_result"
    }
   ],
   "source": [
    "s_info.head()"
   ]
  },
  {
   "cell_type": "code",
   "execution_count": 6,
   "metadata": {},
   "outputs": [
    {
     "data": {
      "text/plain": [
       "M          3767\n",
       "F          3767\n",
       "UNKNOWN    3230\n",
       "Name: GENDER, dtype: int64"
      ]
     },
     "execution_count": 6,
     "metadata": {},
     "output_type": "execute_result"
    }
   ],
   "source": [
    "mem_data.GENDER.value_counts()"
   ]
  },
  {
   "cell_type": "code",
   "execution_count": 9,
   "metadata": {},
   "outputs": [
    {
     "data": {
      "text/plain": [
       "Y    10575\n",
       "N      189\n",
       "Name: SMS, dtype: int64"
      ]
     },
     "execution_count": 9,
     "metadata": {},
     "output_type": "execute_result"
    }
   ],
   "source": [
    "mem_data.SMS.value_counts()"
   ]
  },
  {
   "cell_type": "code",
   "execution_count": 14,
   "metadata": {},
   "outputs": [
    {
     "data": {
      "text/plain": [
       "4767"
      ]
     },
     "execution_count": 14,
     "metadata": {},
     "output_type": "execute_result"
    }
   ],
   "source": [
    "mem_data.BIRTH_DT.isnull().sum()"
   ]
  },
  {
   "cell_type": "code",
   "execution_count": null,
   "metadata": {},
   "outputs": [],
   "source": []
  },
  {
   "cell_type": "code",
   "execution_count": null,
   "metadata": {},
   "outputs": [],
   "source": []
  },
  {
   "cell_type": "markdown",
   "metadata": {},
   "source": [
    "## **[mem_data 처리]**"
   ]
  },
  {
   "cell_type": "markdown",
   "metadata": {},
   "source": [
    "**[변수 처리 1]** SMS 수신동의 정수 처리하기"
   ]
  },
  {
   "cell_type": "code",
   "execution_count": 29,
   "metadata": {},
   "outputs": [
    {
     "data": {
      "text/plain": [
       "Y    10575\n",
       "N      189\n",
       "Name: SMS, dtype: int64"
      ]
     },
     "execution_count": 29,
     "metadata": {},
     "output_type": "execute_result"
    }
   ],
   "source": [
    "mem_data.SMS.value_counts()"
   ]
  },
  {
   "cell_type": "code",
   "execution_count": 30,
   "metadata": {},
   "outputs": [
    {
     "data": {
      "text/plain": [
       "1    10575\n",
       "0      189\n",
       "Name: SMS, dtype: int64"
      ]
     },
     "execution_count": 30,
     "metadata": {},
     "output_type": "execute_result"
    }
   ],
   "source": [
    "mem_data.SMS = (mem_data.SMS=='Y').astype(int)\n",
    "mem_data.SMS.value_counts()"
   ]
  },
  {
   "cell_type": "markdown",
   "metadata": {},
   "source": [
    "**[변수 처리 2]** 양/음력(BIRTH_SL) 정수 처리하기 "
   ]
  },
  {
   "cell_type": "code",
   "execution_count": 31,
   "metadata": {},
   "outputs": [
    {
     "name": "stderr",
     "output_type": "stream",
     "text": [
      "C:\\ProgramData\\Anaconda3\\envs\\[tf]\\lib\\site-packages\\pandas\\core\\ops.py:1649: FutureWarning: elementwise comparison failed; returning scalar instead, but in the future will perform elementwise comparison\n",
      "  result = method(y)\n"
     ]
    },
    {
     "data": {
      "text/plain": [
       "0    10764\n",
       "Name: BIRTH_SL, dtype: int64"
      ]
     },
     "execution_count": 31,
     "metadata": {},
     "output_type": "execute_result"
    }
   ],
   "source": [
    "mem_data.BIRTH_SL = (mem_data.BIRTH_SL=='Y').astype(int)\n",
    "mem_data.BIRTH_SL.value_counts()"
   ]
  },
  {
   "cell_type": "markdown",
   "metadata": {},
   "source": [
    "**[변수 처리 3]** 구매 합계(SALES_AMT) 로그 처리 하기\n",
    "- 참고 : 로그처리에는 음수가 들어갈 수 없음 / 0이 있을 경우 1을 더하고 처리"
   ]
  },
  {
   "cell_type": "code",
   "execution_count": 20,
   "metadata": {},
   "outputs": [],
   "source": [
    "f = mem_data.SALES_AMT.where(mem_data.SALES_AMT>=0, other=0) # 음수처리\n",
    "f = np.log(f+1)\n",
    "mem_data.SALES_AMT = f"
   ]
  },
  {
   "cell_type": "markdown",
   "metadata": {},
   "source": [
    "**[변수 처리 4]** 로그 처리가 필요하다고 생각되는 변수를 로그처리 하기"
   ]
  },
  {
   "cell_type": "code",
   "execution_count": 22,
   "metadata": {},
   "outputs": [],
   "source": [
    "f = mem_data.USABLE_PNT.where(mem_data.SALES_AMT>=0, other=0) # 음수처리\n",
    "f = np.log(f+1)\n",
    "mem_data.USABLE_PNT = f"
   ]
  },
  {
   "cell_type": "code",
   "execution_count": 23,
   "metadata": {},
   "outputs": [],
   "source": [
    "f = mem_data.USED_PNT.where(mem_data.SALES_AMT>=0, other=0) # 음수처리\n",
    "f = np.log(f+1)\n",
    "mem_data.USED_PNT = f"
   ]
  },
  {
   "cell_type": "code",
   "execution_count": 26,
   "metadata": {},
   "outputs": [],
   "source": [
    "f = mem_data.ACC_PNT.where(mem_data.SALES_AMT>=0, other=0) # 음수처리\n",
    "f = np.log(f+1)\n",
    "mem_data.ACC_PNT = f"
   ]
  },
  {
   "cell_type": "code",
   "execution_count": 27,
   "metadata": {},
   "outputs": [],
   "source": [
    "f = mem_data.USABLE_INIT.where(mem_data.SALES_AMT>=0, other=0) # 음수처리\n",
    "f = np.log(f+1)\n",
    "mem_data.USABLE_INIT = f"
   ]
  },
  {
   "cell_type": "code",
   "execution_count": 32,
   "metadata": {},
   "outputs": [
    {
     "data": {
      "text/html": [
       "<div>\n",
       "<style scoped>\n",
       "    .dataframe tbody tr th:only-of-type {\n",
       "        vertical-align: middle;\n",
       "    }\n",
       "\n",
       "    .dataframe tbody tr th {\n",
       "        vertical-align: top;\n",
       "    }\n",
       "\n",
       "    .dataframe thead th {\n",
       "        text-align: right;\n",
       "    }\n",
       "</style>\n",
       "<table border=\"1\" class=\"dataframe\">\n",
       "  <thead>\n",
       "    <tr style=\"text-align: right;\">\n",
       "      <th></th>\n",
       "      <th>MEM_ID</th>\n",
       "      <th>M_STORE_ID</th>\n",
       "      <th>GENDER</th>\n",
       "      <th>BIRTH_DT</th>\n",
       "      <th>BIRTH_SL</th>\n",
       "      <th>ZIP_CD</th>\n",
       "      <th>RGST_DT</th>\n",
       "      <th>VISIT_CNT</th>\n",
       "      <th>SALES_AMT</th>\n",
       "      <th>LAST_VST_DT</th>\n",
       "      <th>USABLE_PNT</th>\n",
       "      <th>USED_PNT</th>\n",
       "      <th>ACC_PNT</th>\n",
       "      <th>USABLE_INIT</th>\n",
       "      <th>SMS</th>\n",
       "      <th>E_DAY</th>\n",
       "    </tr>\n",
       "  </thead>\n",
       "  <tbody>\n",
       "    <tr>\n",
       "      <th>0</th>\n",
       "      <td>1134945</td>\n",
       "      <td>1084</td>\n",
       "      <td>M</td>\n",
       "      <td>NaN</td>\n",
       "      <td>0</td>\n",
       "      <td>-</td>\n",
       "      <td>2006-02-04 11:51:08.233000000</td>\n",
       "      <td>8.0</td>\n",
       "      <td>12.727841</td>\n",
       "      <td>2007-01-19 21:46:12.827000000</td>\n",
       "      <td>8.815964</td>\n",
       "      <td>0.000000</td>\n",
       "      <td>8.815964</td>\n",
       "      <td>8.071843</td>\n",
       "      <td>1</td>\n",
       "      <td>327</td>\n",
       "    </tr>\n",
       "    <tr>\n",
       "      <th>1</th>\n",
       "      <td>38458</td>\n",
       "      <td>539</td>\n",
       "      <td>F</td>\n",
       "      <td>1973-07-11</td>\n",
       "      <td>0</td>\n",
       "      <td>420-721</td>\n",
       "      <td>2006-02-04 11:51:08.233000000</td>\n",
       "      <td>22.0</td>\n",
       "      <td>14.179112</td>\n",
       "      <td>2007-10-18 19:57:45.503000000</td>\n",
       "      <td>7.457609</td>\n",
       "      <td>9.392745</td>\n",
       "      <td>9.527557</td>\n",
       "      <td>9.784873</td>\n",
       "      <td>1</td>\n",
       "      <td>55</td>\n",
       "    </tr>\n",
       "    <tr>\n",
       "      <th>2</th>\n",
       "      <td>7009</td>\n",
       "      <td>1113</td>\n",
       "      <td>F</td>\n",
       "      <td>1973-04-06</td>\n",
       "      <td>0</td>\n",
       "      <td>-</td>\n",
       "      <td>2006-02-04 11:51:08.233000000</td>\n",
       "      <td>8.0</td>\n",
       "      <td>12.642070</td>\n",
       "      <td>2007-05-30 15:21:10.863000000</td>\n",
       "      <td>8.759826</td>\n",
       "      <td>0.000000</td>\n",
       "      <td>8.759826</td>\n",
       "      <td>7.526718</td>\n",
       "      <td>1</td>\n",
       "      <td>196</td>\n",
       "    </tr>\n",
       "    <tr>\n",
       "      <th>3</th>\n",
       "      <td>91791</td>\n",
       "      <td>2273</td>\n",
       "      <td>UNKNOWN</td>\n",
       "      <td>1968-09-05</td>\n",
       "      <td>0</td>\n",
       "      <td>487-820</td>\n",
       "      <td>2006-02-04 11:51:08.233000000</td>\n",
       "      <td>11.0</td>\n",
       "      <td>12.045910</td>\n",
       "      <td>2007-10-16 15:55:52.483000000</td>\n",
       "      <td>8.134174</td>\n",
       "      <td>0.000000</td>\n",
       "      <td>8.134174</td>\n",
       "      <td>5.468060</td>\n",
       "      <td>1</td>\n",
       "      <td>57</td>\n",
       "    </tr>\n",
       "    <tr>\n",
       "      <th>4</th>\n",
       "      <td>1374842</td>\n",
       "      <td>1300</td>\n",
       "      <td>M</td>\n",
       "      <td>NaN</td>\n",
       "      <td>0</td>\n",
       "      <td>-</td>\n",
       "      <td>2006-02-04 11:51:08.233000000</td>\n",
       "      <td>3.0</td>\n",
       "      <td>11.610968</td>\n",
       "      <td>2007-03-25 12:49:30.170000000</td>\n",
       "      <td>7.699389</td>\n",
       "      <td>0.000000</td>\n",
       "      <td>7.699389</td>\n",
       "      <td>7.328437</td>\n",
       "      <td>1</td>\n",
       "      <td>262</td>\n",
       "    </tr>\n",
       "  </tbody>\n",
       "</table>\n",
       "</div>"
      ],
      "text/plain": [
       "    MEM_ID  M_STORE_ID   GENDER    BIRTH_DT  BIRTH_SL   ZIP_CD  \\\n",
       "0  1134945        1084        M         NaN         0        -   \n",
       "1    38458         539        F  1973-07-11         0  420-721   \n",
       "2     7009        1113        F  1973-04-06         0        -   \n",
       "3    91791        2273  UNKNOWN  1968-09-05         0  487-820   \n",
       "4  1374842        1300        M         NaN         0        -   \n",
       "\n",
       "                         RGST_DT  VISIT_CNT  SALES_AMT  \\\n",
       "0  2006-02-04 11:51:08.233000000        8.0  12.727841   \n",
       "1  2006-02-04 11:51:08.233000000       22.0  14.179112   \n",
       "2  2006-02-04 11:51:08.233000000        8.0  12.642070   \n",
       "3  2006-02-04 11:51:08.233000000       11.0  12.045910   \n",
       "4  2006-02-04 11:51:08.233000000        3.0  11.610968   \n",
       "\n",
       "                     LAST_VST_DT  USABLE_PNT  USED_PNT   ACC_PNT  USABLE_INIT  \\\n",
       "0  2007-01-19 21:46:12.827000000    8.815964  0.000000  8.815964     8.071843   \n",
       "1  2007-10-18 19:57:45.503000000    7.457609  9.392745  9.527557     9.784873   \n",
       "2  2007-05-30 15:21:10.863000000    8.759826  0.000000  8.759826     7.526718   \n",
       "3  2007-10-16 15:55:52.483000000    8.134174  0.000000  8.134174     5.468060   \n",
       "4  2007-03-25 12:49:30.170000000    7.699389  0.000000  7.699389     7.328437   \n",
       "\n",
       "   SMS  E_DAY  \n",
       "0    1    327  \n",
       "1    1     55  \n",
       "2    1    196  \n",
       "3    1     57  \n",
       "4    1    262  "
      ]
     },
     "execution_count": 32,
     "metadata": {},
     "output_type": "execute_result"
    }
   ],
   "source": [
    "mem_data.head()"
   ]
  },
  {
   "cell_type": "markdown",
   "metadata": {},
   "source": [
    "**[변수 생성 1]** 최근 방문 일자(LAST_VST_DT)로부터 경과일 구하기"
   ]
  },
  {
   "cell_type": "code",
   "execution_count": 33,
   "metadata": {
    "scrolled": true
   },
   "outputs": [
    {
     "data": {
      "text/plain": [
       "0    327\n",
       "1     55\n",
       "2    196\n",
       "3     57\n",
       "4    262\n",
       "Name: E_DAY, dtype: int64"
      ]
     },
     "execution_count": 33,
     "metadata": {},
     "output_type": "execute_result"
    }
   ],
   "source": [
    "f = pd.to_datetime(mem_data.LAST_VST_DT) # 날짜가 Object 이므로 숫자 처리\n",
    "f = (pd.to_datetime('2007-12-13') - f).dt.days #방문이 얼마나 오래되었는지 ,time 등으로 알고 싶은 것으로 바꿀 수 있다.\n",
    "mem_data['E_DAY'] = f\n",
    "mem_data.E_DAY.head()"
   ]
  },
  {
   "cell_type": "code",
   "execution_count": 34,
   "metadata": {},
   "outputs": [],
   "source": [
    "f = pd.to_datetime(mem_data.LAST_VST_DT)"
   ]
  },
  {
   "cell_type": "code",
   "execution_count": 35,
   "metadata": {},
   "outputs": [],
   "source": [
    "f = (pd.to_datetime('2007-12-13') - f)"
   ]
  },
  {
   "cell_type": "code",
   "execution_count": 36,
   "metadata": {},
   "outputs": [
    {
     "data": {
      "text/plain": [
       "Series([], Name: LAST_VST_DT, dtype: timedelta64[ns])"
      ]
     },
     "execution_count": 36,
     "metadata": {},
     "output_type": "execute_result"
    }
   ],
   "source": [
    "f[f.isna()]"
   ]
  },
  {
   "cell_type": "code",
   "execution_count": 16,
   "metadata": {},
   "outputs": [
    {
     "data": {
      "text/plain": [
       "'2006-06-02 11:31:20.640000000'"
      ]
     },
     "execution_count": 16,
     "metadata": {},
     "output_type": "execute_result"
    }
   ],
   "source": [
    "mem_data.LAST_VST_DT[1612]"
   ]
  },
  {
   "cell_type": "code",
   "execution_count": 17,
   "metadata": {},
   "outputs": [
    {
     "data": {
      "text/plain": [
       "0"
      ]
     },
     "execution_count": 17,
     "metadata": {},
     "output_type": "execute_result"
    }
   ],
   "source": [
    "f.isna().sum()"
   ]
  },
  {
   "cell_type": "markdown",
   "metadata": {},
   "source": [
    "**[변수 생성 2]** 등록일(RGST_DT)로부터 경과일 구하기"
   ]
  },
  {
   "cell_type": "code",
   "execution_count": 38,
   "metadata": {
    "scrolled": true
   },
   "outputs": [
    {
     "data": {
      "text/plain": [
       "0     676\n",
       "1     676\n",
       "2     676\n",
       "3     676\n",
       "4     676\n",
       "5     676\n",
       "6     675\n",
       "7     676\n",
       "8     676\n",
       "9     676\n",
       "10    676\n",
       "11    676\n",
       "12    667\n",
       "13    676\n",
       "14    676\n",
       "15    676\n",
       "16    676\n",
       "17    676\n",
       "18    676\n",
       "19    676\n",
       "20    676\n",
       "21    676\n",
       "22    676\n",
       "23    676\n",
       "24    676\n",
       "25    676\n",
       "26    676\n",
       "27    676\n",
       "28    676\n",
       "29    676\n",
       "Name: RG_DAY, dtype: int64"
      ]
     },
     "execution_count": 38,
     "metadata": {},
     "output_type": "execute_result"
    }
   ],
   "source": [
    "f = pd.to_datetime(mem_data.RGST_DT) # 날짜가 Object 이므로 숫자 처리\n",
    "f = (pd.to_datetime('2007-12-13') - f).dt.days #방문이 얼마나 오래되었는지 ,time 등으로 알고 싶은 것으로 바꿀 수 있다.\n",
    "mem_data['RG_DAY'] = f\n",
    "mem_data.RG_DAY.head(30)"
   ]
  },
  {
   "cell_type": "code",
   "execution_count": 40,
   "metadata": {},
   "outputs": [
    {
     "data": {
      "text/html": [
       "<div>\n",
       "<style scoped>\n",
       "    .dataframe tbody tr th:only-of-type {\n",
       "        vertical-align: middle;\n",
       "    }\n",
       "\n",
       "    .dataframe tbody tr th {\n",
       "        vertical-align: top;\n",
       "    }\n",
       "\n",
       "    .dataframe thead th {\n",
       "        text-align: right;\n",
       "    }\n",
       "</style>\n",
       "<table border=\"1\" class=\"dataframe\">\n",
       "  <thead>\n",
       "    <tr style=\"text-align: right;\">\n",
       "      <th></th>\n",
       "      <th>MEM_ID</th>\n",
       "      <th>M_STORE_ID</th>\n",
       "      <th>GENDER</th>\n",
       "      <th>BIRTH_DT</th>\n",
       "      <th>BIRTH_SL</th>\n",
       "      <th>ZIP_CD</th>\n",
       "      <th>RGST_DT</th>\n",
       "      <th>VISIT_CNT</th>\n",
       "      <th>SALES_AMT</th>\n",
       "      <th>LAST_VST_DT</th>\n",
       "      <th>USABLE_PNT</th>\n",
       "      <th>USED_PNT</th>\n",
       "      <th>ACC_PNT</th>\n",
       "      <th>USABLE_INIT</th>\n",
       "      <th>SMS</th>\n",
       "      <th>E_DAY</th>\n",
       "      <th>RG_DAY</th>\n",
       "    </tr>\n",
       "  </thead>\n",
       "  <tbody>\n",
       "    <tr>\n",
       "      <th>0</th>\n",
       "      <td>1134945</td>\n",
       "      <td>1084</td>\n",
       "      <td>M</td>\n",
       "      <td>NaN</td>\n",
       "      <td>0</td>\n",
       "      <td>-</td>\n",
       "      <td>2006-02-04 11:51:08.233000000</td>\n",
       "      <td>8.0</td>\n",
       "      <td>12.727841</td>\n",
       "      <td>2007-01-19 21:46:12.827000000</td>\n",
       "      <td>8.815964</td>\n",
       "      <td>0.000000</td>\n",
       "      <td>8.815964</td>\n",
       "      <td>8.071843</td>\n",
       "      <td>1</td>\n",
       "      <td>327</td>\n",
       "      <td>676</td>\n",
       "    </tr>\n",
       "    <tr>\n",
       "      <th>1</th>\n",
       "      <td>38458</td>\n",
       "      <td>539</td>\n",
       "      <td>F</td>\n",
       "      <td>1973-07-11</td>\n",
       "      <td>0</td>\n",
       "      <td>420-721</td>\n",
       "      <td>2006-02-04 11:51:08.233000000</td>\n",
       "      <td>22.0</td>\n",
       "      <td>14.179112</td>\n",
       "      <td>2007-10-18 19:57:45.503000000</td>\n",
       "      <td>7.457609</td>\n",
       "      <td>9.392745</td>\n",
       "      <td>9.527557</td>\n",
       "      <td>9.784873</td>\n",
       "      <td>1</td>\n",
       "      <td>55</td>\n",
       "      <td>676</td>\n",
       "    </tr>\n",
       "    <tr>\n",
       "      <th>2</th>\n",
       "      <td>7009</td>\n",
       "      <td>1113</td>\n",
       "      <td>F</td>\n",
       "      <td>1973-04-06</td>\n",
       "      <td>0</td>\n",
       "      <td>-</td>\n",
       "      <td>2006-02-04 11:51:08.233000000</td>\n",
       "      <td>8.0</td>\n",
       "      <td>12.642070</td>\n",
       "      <td>2007-05-30 15:21:10.863000000</td>\n",
       "      <td>8.759826</td>\n",
       "      <td>0.000000</td>\n",
       "      <td>8.759826</td>\n",
       "      <td>7.526718</td>\n",
       "      <td>1</td>\n",
       "      <td>196</td>\n",
       "      <td>676</td>\n",
       "    </tr>\n",
       "    <tr>\n",
       "      <th>3</th>\n",
       "      <td>91791</td>\n",
       "      <td>2273</td>\n",
       "      <td>UNKNOWN</td>\n",
       "      <td>1968-09-05</td>\n",
       "      <td>0</td>\n",
       "      <td>487-820</td>\n",
       "      <td>2006-02-04 11:51:08.233000000</td>\n",
       "      <td>11.0</td>\n",
       "      <td>12.045910</td>\n",
       "      <td>2007-10-16 15:55:52.483000000</td>\n",
       "      <td>8.134174</td>\n",
       "      <td>0.000000</td>\n",
       "      <td>8.134174</td>\n",
       "      <td>5.468060</td>\n",
       "      <td>1</td>\n",
       "      <td>57</td>\n",
       "      <td>676</td>\n",
       "    </tr>\n",
       "    <tr>\n",
       "      <th>4</th>\n",
       "      <td>1374842</td>\n",
       "      <td>1300</td>\n",
       "      <td>M</td>\n",
       "      <td>NaN</td>\n",
       "      <td>0</td>\n",
       "      <td>-</td>\n",
       "      <td>2006-02-04 11:51:08.233000000</td>\n",
       "      <td>3.0</td>\n",
       "      <td>11.610968</td>\n",
       "      <td>2007-03-25 12:49:30.170000000</td>\n",
       "      <td>7.699389</td>\n",
       "      <td>0.000000</td>\n",
       "      <td>7.699389</td>\n",
       "      <td>7.328437</td>\n",
       "      <td>1</td>\n",
       "      <td>262</td>\n",
       "      <td>676</td>\n",
       "    </tr>\n",
       "  </tbody>\n",
       "</table>\n",
       "</div>"
      ],
      "text/plain": [
       "    MEM_ID  M_STORE_ID   GENDER    BIRTH_DT  BIRTH_SL   ZIP_CD  \\\n",
       "0  1134945        1084        M         NaN         0        -   \n",
       "1    38458         539        F  1973-07-11         0  420-721   \n",
       "2     7009        1113        F  1973-04-06         0        -   \n",
       "3    91791        2273  UNKNOWN  1968-09-05         0  487-820   \n",
       "4  1374842        1300        M         NaN         0        -   \n",
       "\n",
       "                         RGST_DT  VISIT_CNT  SALES_AMT  \\\n",
       "0  2006-02-04 11:51:08.233000000        8.0  12.727841   \n",
       "1  2006-02-04 11:51:08.233000000       22.0  14.179112   \n",
       "2  2006-02-04 11:51:08.233000000        8.0  12.642070   \n",
       "3  2006-02-04 11:51:08.233000000       11.0  12.045910   \n",
       "4  2006-02-04 11:51:08.233000000        3.0  11.610968   \n",
       "\n",
       "                     LAST_VST_DT  USABLE_PNT  USED_PNT   ACC_PNT  USABLE_INIT  \\\n",
       "0  2007-01-19 21:46:12.827000000    8.815964  0.000000  8.815964     8.071843   \n",
       "1  2007-10-18 19:57:45.503000000    7.457609  9.392745  9.527557     9.784873   \n",
       "2  2007-05-30 15:21:10.863000000    8.759826  0.000000  8.759826     7.526718   \n",
       "3  2007-10-16 15:55:52.483000000    8.134174  0.000000  8.134174     5.468060   \n",
       "4  2007-03-25 12:49:30.170000000    7.699389  0.000000  7.699389     7.328437   \n",
       "\n",
       "   SMS  E_DAY  RG_DAY  \n",
       "0    1    327     676  \n",
       "1    1     55     676  \n",
       "2    1    196     676  \n",
       "3    1     57     676  \n",
       "4    1    262     676  "
      ]
     },
     "execution_count": 40,
     "metadata": {},
     "output_type": "execute_result"
    }
   ],
   "source": [
    "mem_data.head()"
   ]
  },
  {
   "cell_type": "markdown",
   "metadata": {},
   "source": [
    "**[변수 생성 3]** 우편번호(ZIP_CD)에서 광역행정구역 데이터 가져오기\n",
    "- 참고: 6자리 우편번호의 구성 : https://ko.wikipedia.org/wiki/대한민국의_우편번호#6자리_우편번호_(1988~2015)"
   ]
  },
  {
   "cell_type": "code",
   "execution_count": 41,
   "metadata": {},
   "outputs": [
    {
     "data": {
      "text/plain": [
       "0          -\n",
       "1    420-721\n",
       "2          -\n",
       "3    487-820\n",
       "4          -\n",
       "Name: ZIP_CD, dtype: object"
      ]
     },
     "execution_count": 41,
     "metadata": {},
     "output_type": "execute_result"
    }
   ],
   "source": [
    "mem_data.ZIP_CD.head()"
   ]
  },
  {
   "cell_type": "code",
   "execution_count": 42,
   "metadata": {},
   "outputs": [
    {
     "data": {
      "text/plain": [
       "'4'"
      ]
     },
     "execution_count": 42,
     "metadata": {},
     "output_type": "execute_result"
    }
   ],
   "source": [
    "mem_data.ZIP_CD[1][0]"
   ]
  },
  {
   "cell_type": "code",
   "execution_count": 43,
   "metadata": {},
   "outputs": [],
   "source": [
    "# 리스트를 구할때 첫번째 글자만 가져올때\n",
    "f = [x[0] for x in mem_data.ZIP_CD]"
   ]
  },
  {
   "cell_type": "code",
   "execution_count": 44,
   "metadata": {},
   "outputs": [
    {
     "data": {
      "text/plain": [
       "0    0\n",
       "1    4\n",
       "2    0\n",
       "3    4\n",
       "4    0\n",
       "Name: R_REGION, dtype: int32"
      ]
     },
     "execution_count": 44,
     "metadata": {},
     "output_type": "execute_result"
    }
   ],
   "source": [
    "f = [x[0] for x in mem_data.ZIP_CD]\n",
    "mem_data['R_REGION'] = f\n",
    "mem_data.R_REGION = mem_data.R_REGION.where(mem_data.R_REGION != '-', other=0).astype(int)\n",
    "mem_data.R_REGION.head()"
   ]
  },
  {
   "cell_type": "code",
   "execution_count": 45,
   "metadata": {},
   "outputs": [
    {
     "data": {
      "text/html": [
       "<div>\n",
       "<style scoped>\n",
       "    .dataframe tbody tr th:only-of-type {\n",
       "        vertical-align: middle;\n",
       "    }\n",
       "\n",
       "    .dataframe tbody tr th {\n",
       "        vertical-align: top;\n",
       "    }\n",
       "\n",
       "    .dataframe thead th {\n",
       "        text-align: right;\n",
       "    }\n",
       "</style>\n",
       "<table border=\"1\" class=\"dataframe\">\n",
       "  <thead>\n",
       "    <tr style=\"text-align: right;\">\n",
       "      <th></th>\n",
       "      <th>MEM_ID</th>\n",
       "      <th>M_STORE_ID</th>\n",
       "      <th>GENDER</th>\n",
       "      <th>BIRTH_DT</th>\n",
       "      <th>BIRTH_SL</th>\n",
       "      <th>ZIP_CD</th>\n",
       "      <th>RGST_DT</th>\n",
       "      <th>VISIT_CNT</th>\n",
       "      <th>SALES_AMT</th>\n",
       "      <th>LAST_VST_DT</th>\n",
       "      <th>USABLE_PNT</th>\n",
       "      <th>USED_PNT</th>\n",
       "      <th>ACC_PNT</th>\n",
       "      <th>USABLE_INIT</th>\n",
       "      <th>SMS</th>\n",
       "      <th>E_DAY</th>\n",
       "      <th>RG_DAY</th>\n",
       "      <th>R_REGION</th>\n",
       "    </tr>\n",
       "  </thead>\n",
       "  <tbody>\n",
       "    <tr>\n",
       "      <th>0</th>\n",
       "      <td>1134945</td>\n",
       "      <td>1084</td>\n",
       "      <td>M</td>\n",
       "      <td>NaN</td>\n",
       "      <td>0</td>\n",
       "      <td>-</td>\n",
       "      <td>2006-02-04 11:51:08.233000000</td>\n",
       "      <td>8.0</td>\n",
       "      <td>12.727841</td>\n",
       "      <td>2007-01-19 21:46:12.827000000</td>\n",
       "      <td>8.815964</td>\n",
       "      <td>0.000000</td>\n",
       "      <td>8.815964</td>\n",
       "      <td>8.071843</td>\n",
       "      <td>1</td>\n",
       "      <td>327</td>\n",
       "      <td>676</td>\n",
       "      <td>0</td>\n",
       "    </tr>\n",
       "    <tr>\n",
       "      <th>1</th>\n",
       "      <td>38458</td>\n",
       "      <td>539</td>\n",
       "      <td>F</td>\n",
       "      <td>1973-07-11</td>\n",
       "      <td>0</td>\n",
       "      <td>420-721</td>\n",
       "      <td>2006-02-04 11:51:08.233000000</td>\n",
       "      <td>22.0</td>\n",
       "      <td>14.179112</td>\n",
       "      <td>2007-10-18 19:57:45.503000000</td>\n",
       "      <td>7.457609</td>\n",
       "      <td>9.392745</td>\n",
       "      <td>9.527557</td>\n",
       "      <td>9.784873</td>\n",
       "      <td>1</td>\n",
       "      <td>55</td>\n",
       "      <td>676</td>\n",
       "      <td>4</td>\n",
       "    </tr>\n",
       "    <tr>\n",
       "      <th>2</th>\n",
       "      <td>7009</td>\n",
       "      <td>1113</td>\n",
       "      <td>F</td>\n",
       "      <td>1973-04-06</td>\n",
       "      <td>0</td>\n",
       "      <td>-</td>\n",
       "      <td>2006-02-04 11:51:08.233000000</td>\n",
       "      <td>8.0</td>\n",
       "      <td>12.642070</td>\n",
       "      <td>2007-05-30 15:21:10.863000000</td>\n",
       "      <td>8.759826</td>\n",
       "      <td>0.000000</td>\n",
       "      <td>8.759826</td>\n",
       "      <td>7.526718</td>\n",
       "      <td>1</td>\n",
       "      <td>196</td>\n",
       "      <td>676</td>\n",
       "      <td>0</td>\n",
       "    </tr>\n",
       "    <tr>\n",
       "      <th>3</th>\n",
       "      <td>91791</td>\n",
       "      <td>2273</td>\n",
       "      <td>UNKNOWN</td>\n",
       "      <td>1968-09-05</td>\n",
       "      <td>0</td>\n",
       "      <td>487-820</td>\n",
       "      <td>2006-02-04 11:51:08.233000000</td>\n",
       "      <td>11.0</td>\n",
       "      <td>12.045910</td>\n",
       "      <td>2007-10-16 15:55:52.483000000</td>\n",
       "      <td>8.134174</td>\n",
       "      <td>0.000000</td>\n",
       "      <td>8.134174</td>\n",
       "      <td>5.468060</td>\n",
       "      <td>1</td>\n",
       "      <td>57</td>\n",
       "      <td>676</td>\n",
       "      <td>4</td>\n",
       "    </tr>\n",
       "    <tr>\n",
       "      <th>4</th>\n",
       "      <td>1374842</td>\n",
       "      <td>1300</td>\n",
       "      <td>M</td>\n",
       "      <td>NaN</td>\n",
       "      <td>0</td>\n",
       "      <td>-</td>\n",
       "      <td>2006-02-04 11:51:08.233000000</td>\n",
       "      <td>3.0</td>\n",
       "      <td>11.610968</td>\n",
       "      <td>2007-03-25 12:49:30.170000000</td>\n",
       "      <td>7.699389</td>\n",
       "      <td>0.000000</td>\n",
       "      <td>7.699389</td>\n",
       "      <td>7.328437</td>\n",
       "      <td>1</td>\n",
       "      <td>262</td>\n",
       "      <td>676</td>\n",
       "      <td>0</td>\n",
       "    </tr>\n",
       "  </tbody>\n",
       "</table>\n",
       "</div>"
      ],
      "text/plain": [
       "    MEM_ID  M_STORE_ID   GENDER    BIRTH_DT  BIRTH_SL   ZIP_CD  \\\n",
       "0  1134945        1084        M         NaN         0        -   \n",
       "1    38458         539        F  1973-07-11         0  420-721   \n",
       "2     7009        1113        F  1973-04-06         0        -   \n",
       "3    91791        2273  UNKNOWN  1968-09-05         0  487-820   \n",
       "4  1374842        1300        M         NaN         0        -   \n",
       "\n",
       "                         RGST_DT  VISIT_CNT  SALES_AMT  \\\n",
       "0  2006-02-04 11:51:08.233000000        8.0  12.727841   \n",
       "1  2006-02-04 11:51:08.233000000       22.0  14.179112   \n",
       "2  2006-02-04 11:51:08.233000000        8.0  12.642070   \n",
       "3  2006-02-04 11:51:08.233000000       11.0  12.045910   \n",
       "4  2006-02-04 11:51:08.233000000        3.0  11.610968   \n",
       "\n",
       "                     LAST_VST_DT  USABLE_PNT  USED_PNT   ACC_PNT  USABLE_INIT  \\\n",
       "0  2007-01-19 21:46:12.827000000    8.815964  0.000000  8.815964     8.071843   \n",
       "1  2007-10-18 19:57:45.503000000    7.457609  9.392745  9.527557     9.784873   \n",
       "2  2007-05-30 15:21:10.863000000    8.759826  0.000000  8.759826     7.526718   \n",
       "3  2007-10-16 15:55:52.483000000    8.134174  0.000000  8.134174     5.468060   \n",
       "4  2007-03-25 12:49:30.170000000    7.699389  0.000000  7.699389     7.328437   \n",
       "\n",
       "   SMS  E_DAY  RG_DAY  R_REGION  \n",
       "0    1    327     676         0  \n",
       "1    1     55     676         4  \n",
       "2    1    196     676         0  \n",
       "3    1     57     676         4  \n",
       "4    1    262     676         0  "
      ]
     },
     "execution_count": 45,
     "metadata": {},
     "output_type": "execute_result"
    }
   ],
   "source": [
    "mem_data.head()"
   ]
  },
  {
   "cell_type": "markdown",
   "metadata": {},
   "source": [
    "**[변수 생성 4]** 우편번호(ZIP_CD)에서 광역행정구역과 구를 합쳐서 데이터 가져오기"
   ]
  },
  {
   "cell_type": "code",
   "execution_count": null,
   "metadata": {},
   "outputs": [],
   "source": []
  },
  {
   "cell_type": "markdown",
   "metadata": {},
   "source": [
    "## **[다른 데이터와 연동하여 변수 생성]**"
   ]
  },
  {
   "cell_type": "markdown",
   "metadata": {},
   "source": [
    "**[변수 생성 1]** 평균 구매액 구하기"
   ]
  },
  {
   "cell_type": "code",
   "execution_count": 22,
   "metadata": {},
   "outputs": [
    {
     "name": "stderr",
     "output_type": "stream",
     "text": [
      "c:\\users\\kduar_000\\anaconda3\\lib\\site-packages\\ipykernel_launcher.py:1: FutureWarning: using a dict on a Series for aggregation\n",
      "is deprecated and will be removed in a future version\n",
      "  \"\"\"Entry point for launching an IPython kernel.\n"
     ]
    }
   ],
   "source": [
    "f = mem_tr.groupby('MEM_ID')['SELL_AMT'].agg({'TOTAL_AMT':'mean'}).reset_index()\n",
    "mem_data = mem_data.merge(f, how='left')\n",
    "mem_data.iloc[:,-1] = mem_data.iloc[:,-1].fillna(0)"
   ]
  },
  {
   "cell_type": "markdown",
   "metadata": {},
   "source": [
    "**[변수 생성 2]** 포인트 적립 횟수 구하기"
   ]
  },
  {
   "cell_type": "code",
   "execution_count": 23,
   "metadata": {},
   "outputs": [
    {
     "name": "stderr",
     "output_type": "stream",
     "text": [
      "c:\\users\\kduar_000\\anaconda3\\lib\\site-packages\\ipykernel_launcher.py:1: FutureWarning: using a dict on a Series for aggregation\n",
      "is deprecated and will be removed in a future version\n",
      "  \"\"\"Entry point for launching an IPython kernel.\n"
     ]
    }
   ],
   "source": [
    "f = mem_tr[mem_tr.MEMP_TP=='A'].groupby('MEM_ID')['SELL_AMT'].agg({'POINT_N':'size'}).reset_index()\n",
    "mem_data = mem_data.merge(f, how='left')\n",
    "mem_data.iloc[:,-1] = mem_data.iloc[:,-1].fillna(0)"
   ]
  },
  {
   "cell_type": "markdown",
   "metadata": {},
   "source": [
    "**[변수 생성 3]** 요일 구매 패턴 구하기 : 주중형 / 주말형"
   ]
  },
  {
   "cell_type": "code",
   "execution_count": null,
   "metadata": {},
   "outputs": [],
   "source": []
  },
  {
   "cell_type": "markdown",
   "metadata": {},
   "source": [
    "**[변수 생성 4]** 시간대별 표인트 적립 건수 구하기 : Morning(09-12) / Afternoon(13-17) / Evening(18-20)"
   ]
  },
  {
   "cell_type": "code",
   "execution_count": null,
   "metadata": {},
   "outputs": [],
   "source": []
  },
  {
   "cell_type": "markdown",
   "metadata": {},
   "source": [
    "## **[최종 결과 저장]**"
   ]
  },
  {
   "cell_type": "markdown",
   "metadata": {},
   "source": [
    "- mem_data에 최종 결과가 모일 수 있도록 준비\n",
    "- 1.예측에 사용하지 않을 열들 drop\n",
    "- 2.csv형태로 저장\n",
    "- **주의사항1 : MEM_ID열은 삭제하지 마세요. **\n",
    "- MEM_ID를 변수로 사용하기를 원하면 다른 열을 새로 생성해서 복사해서 사용하세요.\n",
    "- 주의사항2 : GENDER열을 제외하고 문자열이 포함된 열이 데이터에 포함되지 않도록 한다."
   ]
  },
  {
   "cell_type": "code",
   "execution_count": 24,
   "metadata": {},
   "outputs": [
    {
     "name": "stdout",
     "output_type": "stream",
     "text": [
      "<class 'pandas.core.frame.DataFrame'>\n",
      "Int64Index: 10764 entries, 0 to 10763\n",
      "Data columns (total 19 columns):\n",
      "MEM_ID         10764 non-null int64\n",
      "M_STORE_ID     10764 non-null int64\n",
      "GENDER         10764 non-null object\n",
      "BIRTH_DT       5997 non-null object\n",
      "BIRTH_SL       10764 non-null int32\n",
      "ZIP_CD         10764 non-null object\n",
      "RGST_DT        10764 non-null object\n",
      "VISIT_CNT      10764 non-null float64\n",
      "SALES_AMT      10764 non-null float64\n",
      "LAST_VST_DT    10764 non-null object\n",
      "USABLE_PNT     10764 non-null float64\n",
      "USED_PNT       10764 non-null float64\n",
      "ACC_PNT        10764 non-null float64\n",
      "USABLE_INIT    10764 non-null float64\n",
      "SMS            10764 non-null int32\n",
      "E_DAY          10764 non-null int64\n",
      "R_REGION       10764 non-null int32\n",
      "TOTAL_AMT      10764 non-null float64\n",
      "POINT_N        10764 non-null int64\n",
      "dtypes: float64(7), int32(3), int64(4), object(5)\n",
      "memory usage: 1.5+ MB\n"
     ]
    }
   ],
   "source": [
    "mem_data.info()"
   ]
  },
  {
   "cell_type": "code",
   "execution_count": 25,
   "metadata": {
    "scrolled": true
   },
   "outputs": [
    {
     "name": "stdout",
     "output_type": "stream",
     "text": [
      "<class 'pandas.core.frame.DataFrame'>\n",
      "Int64Index: 10764 entries, 0 to 10763\n",
      "Data columns (total 13 columns):\n",
      "MEM_ID         10764 non-null int64\n",
      "GENDER         10764 non-null object\n",
      "VISIT_CNT      10764 non-null float64\n",
      "SALES_AMT      10764 non-null float64\n",
      "USABLE_PNT     10764 non-null float64\n",
      "USED_PNT       10764 non-null float64\n",
      "ACC_PNT        10764 non-null float64\n",
      "USABLE_INIT    10764 non-null float64\n",
      "SMS            10764 non-null int32\n",
      "E_DAY          10764 non-null int64\n",
      "R_REGION       10764 non-null int32\n",
      "TOTAL_AMT      10764 non-null float64\n",
      "POINT_N        10764 non-null int64\n",
      "dtypes: float64(7), int32(2), int64(3), object(1)\n",
      "memory usage: 1.1+ MB\n"
     ]
    }
   ],
   "source": [
    "d_col = ['BIRTH_SL','M_STORE_ID','BIRTH_DT','ZIP_CD','RGST_DT','LAST_VST_DT']\n",
    "mem_data = mem_data.drop(d_col, axis=1)\n",
    "mem_data.info()"
   ]
  },
  {
   "cell_type": "code",
   "execution_count": 26,
   "metadata": {},
   "outputs": [
    {
     "data": {
      "text/html": [
       "<div>\n",
       "<style scoped>\n",
       "    .dataframe tbody tr th:only-of-type {\n",
       "        vertical-align: middle;\n",
       "    }\n",
       "\n",
       "    .dataframe tbody tr th {\n",
       "        vertical-align: top;\n",
       "    }\n",
       "\n",
       "    .dataframe thead th {\n",
       "        text-align: right;\n",
       "    }\n",
       "</style>\n",
       "<table border=\"1\" class=\"dataframe\">\n",
       "  <thead>\n",
       "    <tr style=\"text-align: right;\">\n",
       "      <th></th>\n",
       "      <th>MEM_ID</th>\n",
       "      <th>GENDER</th>\n",
       "      <th>VISIT_CNT</th>\n",
       "      <th>SALES_AMT</th>\n",
       "      <th>USABLE_PNT</th>\n",
       "      <th>USED_PNT</th>\n",
       "      <th>ACC_PNT</th>\n",
       "      <th>USABLE_INIT</th>\n",
       "      <th>SMS</th>\n",
       "      <th>E_DAY</th>\n",
       "      <th>R_REGION</th>\n",
       "      <th>TOTAL_AMT</th>\n",
       "      <th>POINT_N</th>\n",
       "    </tr>\n",
       "  </thead>\n",
       "  <tbody>\n",
       "    <tr>\n",
       "      <th>0</th>\n",
       "      <td>1134945</td>\n",
       "      <td>M</td>\n",
       "      <td>8.0</td>\n",
       "      <td>12.727841</td>\n",
       "      <td>6740.0</td>\n",
       "      <td>0.0</td>\n",
       "      <td>6740.0</td>\n",
       "      <td>3202.0</td>\n",
       "      <td>1</td>\n",
       "      <td>327</td>\n",
       "      <td>0</td>\n",
       "      <td>16262.500000</td>\n",
       "      <td>8</td>\n",
       "    </tr>\n",
       "    <tr>\n",
       "      <th>1</th>\n",
       "      <td>38458</td>\n",
       "      <td>F</td>\n",
       "      <td>22.0</td>\n",
       "      <td>14.179112</td>\n",
       "      <td>1732.0</td>\n",
       "      <td>12000.0</td>\n",
       "      <td>13732.0</td>\n",
       "      <td>17762.0</td>\n",
       "      <td>1</td>\n",
       "      <td>55</td>\n",
       "      <td>4</td>\n",
       "      <td>25018.181818</td>\n",
       "      <td>22</td>\n",
       "    </tr>\n",
       "    <tr>\n",
       "      <th>2</th>\n",
       "      <td>7009</td>\n",
       "      <td>F</td>\n",
       "      <td>8.0</td>\n",
       "      <td>12.642070</td>\n",
       "      <td>6372.0</td>\n",
       "      <td>0.0</td>\n",
       "      <td>6372.0</td>\n",
       "      <td>1856.0</td>\n",
       "      <td>1</td>\n",
       "      <td>196</td>\n",
       "      <td>0</td>\n",
       "      <td>22025.000000</td>\n",
       "      <td>8</td>\n",
       "    </tr>\n",
       "    <tr>\n",
       "      <th>3</th>\n",
       "      <td>91791</td>\n",
       "      <td>UNKNOWN</td>\n",
       "      <td>11.0</td>\n",
       "      <td>12.045910</td>\n",
       "      <td>3408.0</td>\n",
       "      <td>0.0</td>\n",
       "      <td>3408.0</td>\n",
       "      <td>236.0</td>\n",
       "      <td>1</td>\n",
       "      <td>57</td>\n",
       "      <td>4</td>\n",
       "      <td>14418.181818</td>\n",
       "      <td>11</td>\n",
       "    </tr>\n",
       "    <tr>\n",
       "      <th>4</th>\n",
       "      <td>1374842</td>\n",
       "      <td>M</td>\n",
       "      <td>3.0</td>\n",
       "      <td>11.610968</td>\n",
       "      <td>2206.0</td>\n",
       "      <td>0.0</td>\n",
       "      <td>2206.0</td>\n",
       "      <td>1522.0</td>\n",
       "      <td>1</td>\n",
       "      <td>262</td>\n",
       "      <td>0</td>\n",
       "      <td>11400.000000</td>\n",
       "      <td>3</td>\n",
       "    </tr>\n",
       "  </tbody>\n",
       "</table>\n",
       "</div>"
      ],
      "text/plain": [
       "    MEM_ID   GENDER  VISIT_CNT  SALES_AMT  USABLE_PNT  USED_PNT  ACC_PNT  \\\n",
       "0  1134945        M        8.0  12.727841      6740.0       0.0   6740.0   \n",
       "1    38458        F       22.0  14.179112      1732.0   12000.0  13732.0   \n",
       "2     7009        F        8.0  12.642070      6372.0       0.0   6372.0   \n",
       "3    91791  UNKNOWN       11.0  12.045910      3408.0       0.0   3408.0   \n",
       "4  1374842        M        3.0  11.610968      2206.0       0.0   2206.0   \n",
       "\n",
       "   USABLE_INIT  SMS  E_DAY  R_REGION     TOTAL_AMT  POINT_N  \n",
       "0       3202.0    1    327         0  16262.500000        8  \n",
       "1      17762.0    1     55         4  25018.181818       22  \n",
       "2       1856.0    1    196         0  22025.000000        8  \n",
       "3        236.0    1     57         4  14418.181818       11  \n",
       "4       1522.0    1    262         0  11400.000000        3  "
      ]
     },
     "execution_count": 26,
     "metadata": {},
     "output_type": "execute_result"
    }
   ],
   "source": [
    "mem_data.head()"
   ]
  },
  {
   "cell_type": "code",
   "execution_count": 27,
   "metadata": {},
   "outputs": [],
   "source": [
    "mem_data.to_csv('final_data.csv', index=False)"
   ]
  },
  {
   "cell_type": "code",
   "execution_count": 28,
   "metadata": {},
   "outputs": [],
   "source": [
    "final_data = pd.read_csv('final_data.csv')"
   ]
  },
  {
   "cell_type": "code",
   "execution_count": 29,
   "metadata": {},
   "outputs": [
    {
     "data": {
      "text/plain": [
       "MEM_ID           int64\n",
       "GENDER          object\n",
       "VISIT_CNT      float64\n",
       "SALES_AMT      float64\n",
       "USABLE_PNT     float64\n",
       "USED_PNT       float64\n",
       "ACC_PNT        float64\n",
       "USABLE_INIT    float64\n",
       "SMS              int64\n",
       "E_DAY            int64\n",
       "R_REGION         int64\n",
       "TOTAL_AMT      float64\n",
       "POINT_N          int64\n",
       "dtype: object"
      ]
     },
     "execution_count": 29,
     "metadata": {},
     "output_type": "execute_result"
    }
   ],
   "source": [
    "final_data.dtypes"
   ]
  },
  {
   "cell_type": "code",
   "execution_count": null,
   "metadata": {},
   "outputs": [],
   "source": []
  },
  {
   "cell_type": "code",
   "execution_count": null,
   "metadata": {},
   "outputs": [],
   "source": []
  }
 ],
 "metadata": {
  "kernelspec": {
   "display_name": "Python 3",
   "language": "python",
   "name": "python3"
  },
  "language_info": {
   "codemirror_mode": {
    "name": "ipython",
    "version": 3
   },
   "file_extension": ".py",
   "mimetype": "text/x-python",
   "name": "python",
   "nbconvert_exporter": "python",
   "pygments_lexer": "ipython3",
   "version": "3.6.8"
  }
 },
 "nbformat": 4,
 "nbformat_minor": 2
}
