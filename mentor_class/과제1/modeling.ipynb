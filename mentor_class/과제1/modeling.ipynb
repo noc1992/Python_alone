{
 "cells": [
  {
   "cell_type": "code",
   "execution_count": 1,
   "metadata": {},
   "outputs": [],
   "source": [
    "input_data = 'final_data.csv'\n",
    "output_data = 'prediction_20191014.csv'"
   ]
  },
  {
   "cell_type": "code",
   "execution_count": 2,
   "metadata": {},
   "outputs": [],
   "source": [
    "import pandas as pd\n",
    "import numpy as np\n",
    "from sklearn.model_selection import train_test_split\n",
    "from sklearn.ensemble import RandomForestClassifier\n",
    "from sklearn.model_selection import RandomizedSearchCV, StratifiedKFold\n",
    "import glob"
   ]
  },
  {
   "cell_type": "code",
   "execution_count": 3,
   "metadata": {},
   "outputs": [],
   "source": [
    "kfold = StratifiedKFold(n_splits=5) # 하이퍼 파라미터 지정\n",
    "n_it = 12"
   ]
  },
  {
   "cell_type": "code",
   "execution_count": null,
   "metadata": {},
   "outputs": [
    {
     "name": "stderr",
     "output_type": "stream",
     "text": [
      "c:\\users\\kduar_000\\anaconda3\\lib\\site-packages\\pandas\\core\\generic.py:3643: SettingWithCopyWarning: \n",
      "A value is trying to be set on a copy of a slice from a DataFrame.\n",
      "Try using .loc[row_indexer,col_indexer] = value instead\n",
      "\n",
      "See the caveats in the documentation: http://pandas.pydata.org/pandas-docs/stable/indexing.html#indexing-view-versus-copy\n",
      "  self[name] = value\n",
      "[Parallel(n_jobs=-1)]: Using backend LokyBackend with 4 concurrent workers.\n"
     ]
    },
    {
     "name": "stdout",
     "output_type": "stream",
     "text": [
      "MODELING.............................................................................\n",
      "Fitting 5 folds for each of 12 candidates, totalling 60 fits\n"
     ]
    },
    {
     "name": "stderr",
     "output_type": "stream",
     "text": [
      "[Parallel(n_jobs=-1)]: Done  42 tasks      | elapsed:  1.2min\n"
     ]
    }
   ],
   "source": [
    "np.random.seed(123)\n",
    "main= pd.read_csv(input_data)\n",
    "train = main[main.GENDER!='UNKNOWN']\n",
    "train.GENDER = (train.GENDER=='M').astype(int)\n",
    "\n",
    "test = main[main.GENDER=='UNKNOWN']\n",
    "test = test.sort_values('MEM_ID')\n",
    "\n",
    "t_final = test[['MEM_ID', 'GENDER']]\n",
    "\n",
    "test = test.drop(['GENDER','MEM_ID'], axis=1)\n",
    "target = train.GENDER.values\n",
    "train = train.drop(['GENDER','MEM_ID'], axis=1)\n",
    "\n",
    "params = {'max_features':list(np.arange(1, train.shape[1])), 'bootstrap':[False], 'n_estimators': [50], 'criterion':['gini','entropy']}\n",
    "model = RandomizedSearchCV(RandomForestClassifier(), param_distributions=params, n_iter=n_it, cv=kfold, scoring='roc_auc',n_jobs=-1, verbose=1)\n",
    "print('MODELING.............................................................................')\n",
    "model.fit(train, target)\n",
    "print('========BEST_AUC_SCORE = ', model.best_score_)\n",
    "model = model.best_estimator_\n",
    "t_final.GENDER = model.predict_proba(test.values)[:,1]\n",
    "t_final.to_csv(output_data, index=False)\n",
    "print('COMPLETE')"
   ]
  },
  {
   "cell_type": "code",
   "execution_count": null,
   "metadata": {},
   "outputs": [],
   "source": []
  },
  {
   "cell_type": "code",
   "execution_count": null,
   "metadata": {},
   "outputs": [],
   "source": []
  }
 ],
 "metadata": {
  "kernelspec": {
   "display_name": "Python 3",
   "language": "python",
   "name": "python3"
  },
  "language_info": {
   "codemirror_mode": {
    "name": "ipython",
    "version": 3
   },
   "file_extension": ".py",
   "mimetype": "text/x-python",
   "name": "python",
   "nbconvert_exporter": "python",
   "pygments_lexer": "ipython3",
   "version": "3.6.4"
  }
 },
 "nbformat": 4,
 "nbformat_minor": 4
}
